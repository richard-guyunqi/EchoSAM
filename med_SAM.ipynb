{
 "cells": [
  {
   "cell_type": "markdown",
   "metadata": {
    "id": "n6AbOHDY1jEz"
   },
   "source": [
    "## Manual data loading"
   ]
  },
  {
   "cell_type": "code",
   "execution_count": null,
   "metadata": {},
   "outputs": [],
   "source": [
    "import torch\n",
    "torch.cuda.get_device_name(0)"
   ]
  },
  {
   "cell_type": "code",
   "execution_count": null,
   "metadata": {
    "colab": {
     "base_uri": "https://localhost:8080/"
    },
    "executionInfo": {
     "elapsed": 5661,
     "status": "ok",
     "timestamp": 1688402567140,
     "user": {
      "displayName": "Yunqi Gu",
      "userId": "13265072965839909559"
     },
     "user_tz": 420
    },
    "id": "lwmQm0C3n_3D",
    "outputId": "94d1ee75-7949-46ba-cd91-4fdae4a4f022"
   },
   "outputs": [],
   "source": [
    "from pathlib import Path\n",
    "import numpy as np\n",
    "import matplotlib.pyplot as plt\n",
    "import cv2\n",
    "import pandas as pd\n",
    "import random\n",
    "import torch\n",
    "import os\n",
    "from tqdm import tqdm\n",
    "from torch.utils.data import Dataset, DataLoader\n",
    "from torchvision.transforms import ToTensor\n",
    "from statistics import mean\n",
    "\n",
    "from tqdm import tqdm\n",
    "from torch.nn.functional import threshold, normalize\n",
    "os.listdir()\n",
    "os.chdir('..')\n"
   ]
  },
  {
   "cell_type": "code",
   "execution_count": null,
   "metadata": {
    "executionInfo": {
     "elapsed": 7,
     "status": "ok",
     "timestamp": 1688402567141,
     "user": {
      "displayName": "Yunqi Gu",
      "userId": "13265072965839909559"
     },
     "user_tz": 420
    },
    "id": "tUcXSr275Puo"
   },
   "outputs": [],
   "source": [
    "Div=\"TRAIN\""
   ]
  },
  {
   "cell_type": "markdown",
   "metadata": {
    "id": "WNJGn1BsKUMS"
   },
   "source": [
    "## Preprocess data"
   ]
  },
  {
   "cell_type": "markdown",
   "metadata": {
    "id": "KhXGI8HXyIFi"
   },
   "source": [
    "We extract the bounding box coordinates which will be used to feed into SAM as prompts."
   ]
  },
  {
   "cell_type": "code",
   "execution_count": null,
   "metadata": {
    "executionInfo": {
     "elapsed": 856,
     "status": "ok",
     "timestamp": 1688402567992,
     "user": {
      "displayName": "Yunqi Gu",
      "userId": "13265072965839909559"
     },
     "user_tz": 420
    },
    "id": "Di3ph0VctAEc"
   },
   "outputs": [],
   "source": [
    "df=pd.read_csv(\"FileList.csv\").set_index(\"FileName\")"
   ]
  },
  {
   "cell_type": "code",
   "execution_count": null,
   "metadata": {
    "executionInfo": {
     "elapsed": 2,
     "status": "ok",
     "timestamp": 1688402567993,
     "user": {
      "displayName": "Yunqi Gu",
      "userId": "13265072965839909559"
     },
     "user_tz": 420
    },
    "id": "lM_JJVaPs9Hw"
   },
   "outputs": [],
   "source": [
    "#Divide into Train/Val/Test according to the original file\n",
    "Train=list(df[df[\"Split\"]==\"TRAIN\"].index)\n",
    "Val=list(df[df[\"Split\"]==\"VAL\"].index)\n",
    "Test=list(df[df[\"Split\"]==\"TEST\"].index)"
   ]
  },
  {
   "cell_type": "code",
   "execution_count": null,
   "metadata": {
    "executionInfo": {
     "elapsed": 2,
     "status": "ok",
     "timestamp": 1688402567993,
     "user": {
      "displayName": "Yunqi Gu",
      "userId": "13265072965839909559"
     },
     "user_tz": 420
    },
    "id": "X4-7sMaKXpHe"
   },
   "outputs": [],
   "source": [
    "#Select the Train set\n",
    "Train0=[s + \"_ED\" for s in Train]\n",
    "Train1=[s + \"_ES\" for s in Train]\n",
    "z=sorted(Train0+Train1)"
   ]
  },
  {
   "cell_type": "raw",
   "metadata": {
    "id": "xypsYaegiT3J"
   },
   "source": [
    "#Select the Val set\n",
    "Val0=[s + \"_ED\" for s in Val]\n",
    "Val1=[s + \"_ES\" for s in Val]\n",
    "z=sorted(Val0+Val1)"
   ]
  },
  {
   "cell_type": "raw",
   "metadata": {
    "id": "pbeu1iaViVnE"
   },
   "source": [
    "#Select the Test set\n",
    "Test0=[s + \"_ED\" for s in Test]\n",
    "Test1=[s + \"_ES\" for s in Test]\n",
    "z=sorted(Test0+Test1)"
   ]
  },
  {
   "cell_type": "code",
   "execution_count": null,
   "metadata": {
    "executionInfo": {
     "elapsed": 2,
     "status": "ok",
     "timestamp": 1688402567993,
     "user": {
      "displayName": "Yunqi Gu",
      "userId": "13265072965839909559"
     },
     "user_tz": 420
    },
    "id": "9hfmzLzFtpJo"
   },
   "outputs": [],
   "source": [
    "name_mapper = {'TRAIN': Train, 'VAL': Val, 'TEST': Test}\n",
    "z=sorted([s + \"_ED\" for s in name_mapper[Div]]+[s + \"_ES\" for s in name_mapper[Div]])"
   ]
  },
  {
   "cell_type": "code",
   "execution_count": null,
   "metadata": {
    "executionInfo": {
     "elapsed": 4062,
     "status": "ok",
     "timestamp": 1688402572053,
     "user": {
      "displayName": "Yunqi Gu",
      "userId": "13265072965839909559"
     },
     "user_tz": 420
    },
    "id": "BATPOEDOiZ-M"
   },
   "outputs": [],
   "source": [
    "#Adapted for EchoNet dataset\n",
    "import pandas as pd\n",
    "bbox_df=pd.read_excel(\"bbox_coords.xlsx\").set_index(\"Frame\")\n",
    "bbox_coords = {}\n",
    "for k in bbox_df.index:\n",
    "    bbox_coords[k]=np.array([bbox_df.loc[k,\"xmin\"], bbox_df.loc[k,\"ymin\"],bbox_df.loc[k,\"xmax\"],bbox_df.loc[k,\"ymax\"]])"
   ]
  },
  {
   "cell_type": "code",
   "execution_count": null,
   "metadata": {
    "colab": {
     "base_uri": "https://localhost:8080/"
    },
    "executionInfo": {
     "elapsed": 77,
     "status": "ok",
     "timestamp": 1688402572054,
     "user": {
      "displayName": "Yunqi Gu",
      "userId": "13265072965839909559"
     },
     "user_tz": 420
    },
    "id": "vS0lREZ6jjuR",
    "outputId": "66627752-6cae-471e-f966-eb95cc6eee67"
   },
   "outputs": [],
   "source": [
    "print(z)"
   ]
  },
  {
   "cell_type": "markdown",
   "metadata": {
    "id": "zsv0IGBDyMkS"
   },
   "source": [
    "We extract the ground truth segmentation masks"
   ]
  },
  {
   "cell_type": "code",
   "execution_count": null,
   "metadata": {
    "executionInfo": {
     "elapsed": 55,
     "status": "ok",
     "timestamp": 1688402572054,
     "user": {
      "displayName": "Yunqi Gu",
      "userId": "13265072965839909559"
     },
     "user_tz": 420
    },
    "id": "CiPdeu8d5Puu"
   },
   "outputs": [],
   "source": [
    "remove_ls = ['0X234005774F4CB5CD_ED', '0X234005774F4CB5CD_ES', '0X2DC68261CBCC04AE_ED', '0X2DC68261CBCC04AE_ES', '0X35291BE9AB90FB89_ED', '0X35291BE9AB90FB89_ES', '0X5515B0BD077BE68A_ED', '0X5515B0BD077BE68A_ES', '0X6C435C1B417FDE8A_ED', '0X6C435C1B417FDE8A_ES']\n",
    "for i in remove_ls:\n",
    "    if i in z:\n",
    "        z.remove(i)"
   ]
  },
  {
   "cell_type": "code",
   "execution_count": null,
   "metadata": {
    "colab": {
     "base_uri": "https://localhost:8080/",
     "height": 35
    },
    "executionInfo": {
     "elapsed": 55,
     "status": "ok",
     "timestamp": 1688402572054,
     "user": {
      "displayName": "Yunqi Gu",
      "userId": "13265072965839909559"
     },
     "user_tz": 420
    },
    "id": "7j9eO8NyYT33",
    "outputId": "d80a62a1-474a-4e2f-e419-478942a1f107"
   },
   "outputs": [],
   "source": [
    "os.getcwd()"
   ]
  },
  {
   "cell_type": "code",
   "execution_count": null,
   "metadata": {
    "colab": {
     "base_uri": "https://localhost:8080/",
     "height": 253
    },
    "executionInfo": {
     "elapsed": 1262322,
     "status": "error",
     "timestamp": 1688403834322,
     "user": {
      "displayName": "Yunqi Gu",
      "userId": "13265072965839909559"
     },
     "user_tz": 420
    },
    "id": "2-un0ow-XRNd",
    "outputId": "1b2fe113-532f-49a9-c20e-8e7f5e0e6bb2"
   },
   "outputs": [],
   "source": [
    "from collections import defaultdict\n",
    "\n",
    "import torch\n",
    "\n",
    "from PIL import Image\n",
    "\n",
    "\n",
    "from segment_anything.utils.transforms import ResizeLongestSide\n",
    "\n",
    "transformed_data = defaultdict(dict)\n",
    "\n",
    "all_images = []\n",
    "all_masks = []\n",
    "all_boxes = []\n",
    "orig_masks = []\n",
    "with torch.no_grad():\n",
    "    for k in tqdm(z[:100]):#bbox_coords.keys():\n",
    "        image = cv2.imread(f'Images/{Div}/{k}.jpg')\n",
    "        image = cv2.cvtColor(image, cv2.COLOR_BGR2RGB)\n",
    "\n",
    "        all_images.append(image)\n",
    "        original_image_size = image.shape[:2]\n",
    "\n",
    "        gt_grayscale = cv2.imread(f'Labels/{Div}/{k}.png', cv2.IMREAD_GRAYSCALE)\n",
    "        mask = (gt_grayscale == gt_grayscale.max())\n",
    "        mask = torch.tensor(mask).cpu()\n",
    "        mask = (mask > 0).float()\n",
    "        orig_masks.append(mask)\n",
    "        gt_grayscale = cv2.resize(gt_grayscale, (256, 256), interpolation = cv2.INTER_AREA)\n",
    "        mask = (gt_grayscale == gt_grayscale.max())\n",
    "        mask = torch.tensor(mask).cpu()\n",
    "        mask = (mask > 0).float()\n",
    "        all_masks.append(mask)\n",
    "\n",
    "        all_boxes.append(bbox_coords[k])\n",
    "\n",
    "print(len(all_images), len(all_masks))"
   ]
  },
  {
   "cell_type": "code",
   "execution_count": null,
   "metadata": {},
   "outputs": [],
   "source": [
    "torch.cuda.get_device_name(0)"
   ]
  },
  {
   "cell_type": "code",
   "execution_count": null,
   "metadata": {
    "colab": {
     "base_uri": "https://localhost:8080/",
     "height": 451
    },
    "executionInfo": {
     "elapsed": 387,
     "status": "ok",
     "timestamp": 1688403837732,
     "user": {
      "displayName": "Yunqi Gu",
      "userId": "13265072965839909559"
     },
     "user_tz": 420
    },
    "id": "rn7nVrifJ7Cd",
    "outputId": "0464000d-5d0e-475e-affe-f3ed341a09e6"
   },
   "outputs": [],
   "source": [
    "plt.imshow(all_images[0])"
   ]
  },
  {
   "cell_type": "code",
   "execution_count": null,
   "metadata": {
    "colab": {
     "base_uri": "https://localhost:8080/"
    },
    "executionInfo": {
     "elapsed": 4,
     "status": "ok",
     "timestamp": 1688403839981,
     "user": {
      "displayName": "Yunqi Gu",
      "userId": "13265072965839909559"
     },
     "user_tz": 420
    },
    "id": "kCClXToBXRNd",
    "outputId": "abd6d35b-059f-4d0b-b934-a6af4b8af516"
   },
   "outputs": [],
   "source": [
    "all_images = np.stack(all_images, axis=0)\n",
    "all_masks = torch.stack(all_masks, dim=0)\n",
    "orig_masks = torch.stack(orig_masks, dim=0)\n",
    "all_boxes = np.stack(all_boxes, axis=0)\n",
    "print(all_images.shape, all_masks.shape,all_boxes.shape)"
   ]
  },
  {
   "cell_type": "code",
   "execution_count": null,
   "metadata": {
    "executionInfo": {
     "elapsed": 4,
     "status": "ok",
     "timestamp": 1688403842247,
     "user": {
      "displayName": "Yunqi Gu",
      "userId": "13265072965839909559"
     },
     "user_tz": 420
    },
    "id": "OdTD9CTxKena"
   },
   "outputs": [],
   "source": [
    "model_type = 'vit_b'\n",
    "checkpoint = 'sam_vit_b_01ec64.pth'\n",
    "device = 'cuda:0'"
   ]
  },
  {
   "cell_type": "code",
   "execution_count": null,
   "metadata": {
    "executionInfo": {
     "elapsed": 8196,
     "status": "ok",
     "timestamp": 1688403868502,
     "user": {
      "displayName": "Yunqi Gu",
      "userId": "13265072965839909559"
     },
     "user_tz": 420
    },
    "id": "HjTIJtLxP8ZG"
   },
   "outputs": [],
   "source": [
    "from segment_anything import SamPredictor, sam_model_registry\n",
    "sam_model = sam_model_registry[model_type](checkpoint=checkpoint)\n",
    "#sam_model.to(device)    # SAM is on CUDA\n",
    "sam_model.train();    # Tells sam_model that we are running under training mode\n",
    "#sam_model.eval();    # Tells sam_model that we are running under testing mode"
   ]
  },
  {
   "cell_type": "code",
   "execution_count": null,
   "metadata": {
    "executionInfo": {
     "elapsed": 4,
     "status": "ok",
     "timestamp": 1688403868502,
     "user": {
      "displayName": "Yunqi Gu",
      "userId": "13265072965839909559"
     },
     "user_tz": 420
    },
    "id": "SF79mQ-RXRNe"
   },
   "outputs": [],
   "source": [
    "import torch\n",
    "from torch.utils.data import TensorDataset, DataLoader\n",
    "\n",
    "# def train(images, masks, batch_size, num_epochs, device):\n",
    "#     # Convert the numpy arrays to PyTorch tensors\n",
    "# images_tensor = torch.from_numpy(images).float()\n",
    "# masks_tensor = torch.from_numpy(masks).float()\n",
    "\n",
    "batch_size = 8\n",
    "\n",
    "transform = ResizeLongestSide(sam_model.image_encoder.img_size)"
   ]
  },
  {
   "cell_type": "code",
   "execution_count": null,
   "metadata": {
    "executionInfo": {
     "elapsed": 1,
     "status": "ok",
     "timestamp": 1688403873377,
     "user": {
      "displayName": "Yunqi Gu",
      "userId": "13265072965839909559"
     },
     "user_tz": 420
    },
    "id": "j93bS_RmXRNe"
   },
   "outputs": [],
   "source": [
    "import os\n",
    "import numpy as np\n",
    "import torch\n",
    "\n",
    "\n",
    "class EchoDataset(Dataset):\n",
    "    def __init__(self, all_images, all_masks, all_boxes, transform):\n",
    "        self.all_images = all_images # this is np # N, W, H, 3\n",
    "        self.all_masks = all_masks # this is tensor # N, W, H\n",
    "        self.all_boxes = all_boxes\n",
    "        self.transform = transform\n",
    "\n",
    "    def __len__(self):\n",
    "        return self.all_images.shape[0]\n",
    "\n",
    "    def __getitem__(self, index):\n",
    "        image =  torch.as_tensor(self.transform.apply_image(self.all_images[index])) # W, H, 3 # resized\n",
    "        image = image.permute(2, 0, 1).contiguous()\n",
    "\n",
    "        mask = self.all_masks[index] # W, H\n",
    "\n",
    "        prompt_box = self.all_boxes[index]\n",
    "        box = self.transform.apply_boxes(prompt_box, original_image_size)\n",
    "        box = torch.as_tensor(box, dtype=torch.float)[0].unsqueeze(0)\n",
    "\n",
    "        return image, mask, box\n",
    "\n",
    "dataset = EchoDataset(all_images, all_masks, all_boxes, transform)\n",
    "train_dataloader = DataLoader(dataset, batch_size=batch_size, shuffle=True)"
   ]
  },
  {
   "cell_type": "code",
   "execution_count": null,
   "metadata": {
    "colab": {
     "base_uri": "https://localhost:8080/",
     "height": 904
    },
    "executionInfo": {
     "elapsed": 1123,
     "status": "ok",
     "timestamp": 1688403876177,
     "user": {
      "displayName": "Yunqi Gu",
      "userId": "13265072965839909559"
     },
     "user_tz": 420
    },
    "id": "c-NkIykoIm8L",
    "outputId": "a91e313b-251a-4bc7-dc15-09c84c03472e"
   },
   "outputs": [],
   "source": [
    "batch = next(iter(train_dataloader))\n",
    "print(type(batch))\n",
    "batch_images, batch_masks, batch_boxes = batch\n",
    "print('batch_images: ', batch_images.shape)\n",
    "print(\"batch_masks: \", batch_masks.shape)\n",
    "print(\"batch_boxes: \", batch_boxes)\n",
    "plt.imshow(batch_images[0].permute(1, 2, 0))"
   ]
  },
  {
   "cell_type": "markdown",
   "metadata": {
    "id": "AQx2Aq7LeAMU"
   },
   "source": [
    "## Load the model (Note that you will create a new model!)"
   ]
  },
  {
   "cell_type": "markdown",
   "metadata": {
    "id": "kz_k0x7Etq5w"
   },
   "source": [
    "from transformers import SamModel\n",
    "\n",
    "model = SamModel.from_pretrained(\"facebook/sam-vit-base\")\n",
    "\n",
    "# make sure we only compute gradients for mask decoder\n",
    "for name, param in model.named_parameters():\n",
    "  if name.startswith(\"vision_encoder\") or name.startswith(\"prompt_encoder\"):\n",
    "    param.requires_grad_(False)\n",
    "\n",
    "device = \"cuda\" if torch.cuda.is_available() else \"cpu\"\n",
    "model.to(device)\n",
    "pass"
   ]
  },
  {
   "cell_type": "code",
   "execution_count": null,
   "metadata": {
    "colab": {
     "base_uri": "https://localhost:8080/",
     "height": 81,
     "referenced_widgets": [
      "b42288ff854740e8926267527b5e4988",
      "885899f174014e76b5a6feb054d10298",
      "cc69de2d533d414fbc2a8c617cbfca77",
      "b59f2fdce1ab4433b3427b4c3ad3cf74",
      "0682113f737d421cb9763eabf09e7cc6",
      "7efe61408ff04338b825f77d988ecede",
      "a72abf7d5a354833aff91e8971aac31b",
      "44af333afe5040a2888217d71cb48162",
      "43c8e4157479432cb8855f01e7988d36",
      "52d71f505e464e83b666a5593780e2e2",
      "82c09d29f0dc43d286b4c9bf8c54a9df",
      "9a1e2ab7baf946f8a82b0d90c16f4001",
      "bc8c20eadb5145788820aa59b9b69c7f",
      "d87fa2850e0b4e0193d3321c7b392132",
      "5d14961143654284b3ffe70338f6a659",
      "e5efc7dd03db49869ea9a04c9d2a1562",
      "fb45db7d733f4f2ab2f504e9f0df19a9",
      "fc5ac866b7054047b77f350fadf74324",
      "c0e5f9f84c644e359e46873d8dad6aee",
      "b140bee2cf01484ea2cc7bbf5d920758",
      "896b02d0a2934f38b582962944979c37",
      "22b3610954784721ad878c681c8ecc35"
     ]
    },
    "executionInfo": {
     "elapsed": 8943,
     "status": "ok",
     "timestamp": 1688143928754,
     "user": {
      "displayName": "Yunqi Gu",
      "userId": "13265072965839909559"
     },
     "user_tz": 420
    },
    "id": "ZI2ioeS5eAxm",
    "outputId": "87c3b46e-90fe-4bcc-a533-03e14bcf5320"
   },
   "outputs": [],
   "source": []
  },
  {
   "cell_type": "markdown",
   "metadata": {
    "id": "CShhxC-heDpw"
   },
   "source": [
    "## Train the model"
   ]
  },
  {
   "cell_type": "code",
   "execution_count": null,
   "metadata": {},
   "outputs": [],
   "source": []
  },
  {
   "cell_type": "code",
   "execution_count": null,
   "metadata": {},
   "outputs": [],
   "source": [
    "from transformers import SamModel\n",
    "\n",
    "model = SamModel.from_pretrained(\"facebook/sam-vit-base\")\n",
    "\n",
    "# make sure we only compute gradients for mask decoder\n",
    "for name, param in model.named_parameters():\n",
    "  if name.startswith(\"vision_encoder\") or name.startswith(\"prompt_encoder\"):\n",
    "    param.requires_grad_(False)\n",
    "\n",
    "device = \"cuda\" if torch.cuda.is_available() else \"cpu\"\n",
    "model.to(device)\n",
    "model.load_state_dict(torch.load('7.6noon_model.pth', map_location=torch.device('cuda')))"
   ]
  },
  {
   "cell_type": "code",
   "execution_count": null,
   "metadata": {
    "executionInfo": {
     "elapsed": 305,
     "status": "ok",
     "timestamp": 1688403890173,
     "user": {
      "displayName": "Yunqi Gu",
      "userId": "13265072965839909559"
     },
     "user_tz": 420
    },
    "id": "qG6RE4FdRC0q"
   },
   "outputs": [],
   "source": [
    "# Helper functions provided in https://github.com/facebookresearch/segment-anything/blob/9e8f1309c94f1128a6e5c047a10fdcb02fc8d651/notebooks/predictor_example.ipynb\n",
    "def show_mask(mask, ax, random_color=False):\n",
    "    if random_color:\n",
    "        color = np.concatenate([np.random.random(3), np.array([0.6])], axis=0)\n",
    "    else:\n",
    "        color = np.array([30/255, 144/255, 255/255, 0.6])\n",
    "    h, w = mask.shape[-2:]\n",
    "    mask_image = mask.reshape(h, w, 1) * color.reshape(1, 1, -1)\n",
    "    ax.imshow(mask_image)\n",
    "\n",
    "def show_box(box, ax):\n",
    "    x0, y0 = box[0], box[1]\n",
    "    w, h = box[2] - box[0], box[3] - box[1]\n",
    "    #print(x0, y0, w, h)\n",
    "    ax.add_patch(plt.Rectangle((x0, y0), w, h, edgecolor='green', facecolor=(0,0,0,0), lw=2))"
   ]
  },
  {
   "cell_type": "code",
   "execution_count": null,
   "metadata": {
    "colab": {
     "base_uri": "https://localhost:8080/"
    },
    "executionInfo": {
     "elapsed": 494,
     "status": "ok",
     "timestamp": 1688403892270,
     "user": {
      "displayName": "Yunqi Gu",
      "userId": "13265072965839909559"
     },
     "user_tz": 420
    },
    "id": "6rDW4HvL7Syo",
    "outputId": "01895646-1685-4048-e04e-3a294162494e"
   },
   "outputs": [],
   "source": [
    "from tqdm import tqdm\n",
    "from statistics import mean\n",
    "import torch\n",
    "from torch.nn.functional import threshold, normalize\n",
    "torch.cuda.mem_get_info()\n",
    "torch.cuda.empty_cache()\n",
    "torch.cuda.mem_get_info()\n"
   ]
  },
  {
   "cell_type": "code",
   "execution_count": null,
   "metadata": {
    "executionInfo": {
     "elapsed": 4,
     "status": "ok",
     "timestamp": 1688408424706,
     "user": {
      "displayName": "Yunqi Gu",
      "userId": "13265072965839909559"
     },
     "user_tz": 420
    },
    "id": "vOTrMv1LeEK9"
   },
   "outputs": [],
   "source": [
    "from torch.optim import Adam\n",
    "import monai\n",
    "\n",
    "# Note: Hyperparameter tuning could improve performance here\n",
    "optimizer = Adam(model.mask_decoder.parameters(), lr=8e-6, weight_decay=0)\n",
    "\n",
    "seg_loss = monai.losses.DiceCELoss(sigmoid=True, squared_pred=True, reduction='mean')"
   ]
  },
  {
   "cell_type": "code",
   "execution_count": null,
   "metadata": {
    "colab": {
     "base_uri": "https://localhost:8080/"
    },
    "executionInfo": {
     "elapsed": 734264,
     "status": "ok",
     "timestamp": 1688409158967,
     "user": {
      "displayName": "Yunqi Gu",
      "userId": "13265072965839909559"
     },
     "user_tz": 420
    },
    "id": "XC35CzLxfdQU",
    "outputId": "49862dee-7f3b-4923-cfba-aa2774c3bfbd"
   },
   "outputs": [],
   "source": [
    "num_epochs = 150\n",
    "model.train()\n",
    "\n",
    "for epoch in range(num_epochs):\n",
    "    epoch_losses = []\n",
    "    for batch in tqdm(train_dataloader):\n",
    "      batch_images, batch_masks, batch_boxes = batch\n",
    "      '''\n",
    "      plt.figure(figsize=(10,10))\n",
    "      plt.imshow(batch_images[0].permute(1, 2, 0))\n",
    "      show_box(batch_boxes.squeeze(1)[0], plt.gca())\n",
    "      #show_mask(batch_masks[0], plt.gca())\n",
    "      plt.axis('off')\n",
    "      plt.show()\n",
    "\n",
    "      plt.figure(figsize=(10,10))\n",
    "      show_mask(batch_masks[0], plt.gca())\n",
    "      plt.axis('off')\n",
    "      plt.show()\n",
    "      '''\n",
    "      batch_images = batch_images.float().to(device)  # convert images to float\n",
    "      batch_boxes = batch_boxes.float().to(device)  # convert boxes to float\n",
    "\n",
    "\n",
    "\n",
    "      # forward pass\n",
    "      #print(\"pixel_values:\", batch_images.shape)\n",
    "      #print('input_boxes: ', batch_boxes.shape)\n",
    "      #print('ground_truth_mask: ', batch_masks.shape)\n",
    "      outputs = model(pixel_values=batch_images.to(device),\n",
    "                      input_boxes=batch_boxes.to(device),\n",
    "                      multimask_output=False)\n",
    "\n",
    "      # compute loss\n",
    "      predicted_masks = outputs.pred_masks.squeeze(1)\n",
    "      #print(\"predicted_masks: \", predicted_masks.shape)\n",
    "\n",
    "      ground_truth_masks = batch_masks\n",
    "\n",
    "      #fig, axes = plt.subplots(1)\n",
    "      #show_box(batch_boxes.squeeze(1).to('cpu').numpy()[0], axes)\n",
    "      #show_mask(predicted_masks.detach().cpu().numpy()[0], axes)\n",
    "\n",
    "      #plt.show()\n",
    "\n",
    "      loss = seg_loss(predicted_masks.to(device), ground_truth_masks.unsqueeze(1).to(device))\n",
    "\n",
    "      # backward pass (compute gradients of parameters w.r.t. loss)\n",
    "      optimizer.zero_grad()\n",
    "      loss.backward()\n",
    "\n",
    "      # optimize\n",
    "      optimizer.step()\n",
    "      epoch_losses.append(loss.item())\n",
    "\n",
    "    print(f'EPOCH: {epoch}')\n",
    "    print(f'Mean loss: {mean(epoch_losses)}')"
   ]
  },
  {
   "cell_type": "raw",
   "metadata": {
    "executionInfo": {
     "elapsed": 1345,
     "status": "ok",
     "timestamp": 1688408400732,
     "user": {
      "displayName": "Yunqi Gu",
      "userId": "13265072965839909559"
     },
     "user_tz": 420
    },
    "id": "D2_1A3oxjUc4"
   },
   "source": [
    "    # If you wanna save your model here\n",
    "# Remember to change the name\n",
    "name = \"\"\n",
    "torch.save(model.state_dict(), '7.10mor_model.pth')"
   ]
  },
  {
   "cell_type": "raw",
   "metadata": {
    "colab": {
     "base_uri": "https://localhost:8080/",
     "height": 98,
     "referenced_widgets": [
      "54957b97fda541a0b7f15612e7da98b0",
      "25b4394ce66b48c1b1a7c2d017e36ef5",
      "89ed92649f804c7e8edc28baa175d802",
      "2a1c9f7eabc84dd1ba724ec3d00eb221",
      "3bac970284df43078b91282c5f3f9323",
      "3499cab3c81c4e8a98f1e6eb96665adc",
      "edf96c47da884dd2a1ecbc04382f8be7",
      "3fb3e9807d7b496a99db4666de697d4e",
      "6bcbae951661447099b54b52f9f809f5",
      "3dfb397dbbc2428dac8acdc115274fd0",
      "79c075c069384219a5bba1bcadbf4509",
      "f053484f156e40c4a0535d15ed8b0c8f",
      "7474aa984303400e95c9cec7e998bd50",
      "4cce64923dd44111aefd1ab0842dfd69",
      "c1fcd00c43c24f1d8eb9d42efdb435a2",
      "13f409b9c328438189f5f3556817a9f1",
      "07a7c088101f42ed8ce670ebb8ac1072",
      "0737146b46b54d629afac4028ab9ed8c",
      "20fe32d5d88b428aa956bc0edcd42f37",
      "a6ae6d2192144e618fef9360db9ae020",
      "a3b498f392b842799cd20cad52bc42fe",
      "231899aa69134a7f9e38e57d01e81c85"
     ]
    },
    "executionInfo": {
     "elapsed": 9896,
     "status": "ok",
     "timestamp": 1688403970916,
     "user": {
      "displayName": "Yunqi Gu",
      "userId": "13265072965839909559"
     },
     "user_tz": 420
    },
    "id": "YnPQ-6rRoP9M",
    "outputId": "5bdbb8a5-3a4d-4dc9-dee7-9991e45d2609"
   },
   "source": [
    "from transformers import SamModel\n",
    "\n",
    "model = SamModel.from_pretrained(\"facebook/sam-vit-base\")\n",
    "\n",
    "# make sure we only compute gradients for mask decoder\n",
    "for name, param in model.named_parameters():\n",
    "  if name.startswith(\"vision_encoder\") or name.startswith(\"prompt_encoder\"):\n",
    "    param.requires_grad_(False)\n",
    "\n",
    "device = \"cuda\" if torch.cuda.is_available() else \"cpu\"\n",
    "model.to(device)\n",
    "model.load_state_dict(torch.load('0.0236_model.pth', map_location=torch.device('cuda')))"
   ]
  },
  {
   "cell_type": "markdown",
   "metadata": {
    "id": "IYKvlFthRsyG"
   },
   "source": [
    "## Inference\n",
    "\n",
    "Important note here: as we used the Dice loss with `sigmoid=True`, we need to make sure to appropriately apply a sigmoid activation function to the predicted masks. Hence we won't use the processor's `post_process_masks` method here."
   ]
  },
  {
   "cell_type": "code",
   "execution_count": null,
   "metadata": {
    "colab": {
     "base_uri": "https://localhost:8080/",
     "height": 469
    },
    "executionInfo": {
     "elapsed": 483,
     "status": "ok",
     "timestamp": 1688151846297,
     "user": {
      "displayName": "Yunqi Gu",
      "userId": "13265072965839909559"
     },
     "user_tz": 420
    },
    "id": "nyES0ru3aiVf",
    "outputId": "63000f72-c632-45fd-8c30-4c764d52061d"
   },
   "outputs": [],
   "source": [
    "import numpy as np\n",
    "from PIL import Image\n",
    "\n",
    "# let's take a random training example\n",
    "idx = 0\n",
    "\n",
    "# load image\n",
    "image = all_images[idx]\n",
    "print(image.shape)\n",
    "plt.imshow(image)"
   ]
  },
  {
   "cell_type": "code",
   "execution_count": null,
   "metadata": {
    "id": "gTWWYiiwkCfS"
   },
   "outputs": [],
   "source": [
    "from transformers import SamProcessor\n",
    "\n",
    "processor = SamProcessor.from_pretrained(\"facebook/sam-vit-base\")"
   ]
  },
  {
   "cell_type": "code",
   "execution_count": null,
   "metadata": {
    "colab": {
     "base_uri": "https://localhost:8080/"
    },
    "executionInfo": {
     "elapsed": 1,
     "status": "ok",
     "timestamp": 1688151847781,
     "user": {
      "displayName": "Yunqi Gu",
      "userId": "13265072965839909559"
     },
     "user_tz": 420
    },
    "id": "OzxIzE6janRx",
    "outputId": "61ecbec3-6a65-4a78-cea3-e9ce3bd7fb9f"
   },
   "outputs": [],
   "source": [
    "# get box prompt based on ground truth segmentation map\n",
    "ground_truth_mask = orig_masks[0].numpy()\n",
    "print(ground_truth_mask.shape)\n",
    "prompt = all_boxes[0].tolist()\n",
    "print(prompt)\n",
    "\n",
    "# prepare image + box prompt for the model\n",
    "inputs = processor(image, input_boxes=[[prompt]], return_tensors=\"pt\").to(device)\n",
    "for k,v in inputs.items():\n",
    "  print(k,v.shape)"
   ]
  },
  {
   "cell_type": "code",
   "execution_count": null,
   "metadata": {
    "id": "OvOVzNvea5oU"
   },
   "outputs": [],
   "source": [
    "model.eval()\n",
    "\n",
    "# forward pass\n",
    "with torch.no_grad():\n",
    "  outputs = model(**inputs, multimask_output=False)"
   ]
  },
  {
   "cell_type": "code",
   "execution_count": null,
   "metadata": {},
   "outputs": [],
   "source": [
    "outputs"
   ]
  },
  {
   "cell_type": "code",
   "execution_count": null,
   "metadata": {
    "id": "uvgwHg42bACQ"
   },
   "outputs": [],
   "source": [
    "# apply sigmoid\n",
    "medsam_seg_prob = torch.sigmoid(outputs.pred_masks.squeeze(1))\n",
    "# convert soft mask to hard mask\n",
    "medsam_seg_prob = medsam_seg_prob.cpu().numpy().squeeze()\n",
    "medsam_seg = (medsam_seg_prob > 0.5).astype(np.uint8)"
   ]
  },
  {
   "cell_type": "code",
   "execution_count": null,
   "metadata": {
    "colab": {
     "base_uri": "https://localhost:8080/",
     "height": 856
    },
    "executionInfo": {
     "elapsed": 586,
     "status": "ok",
     "timestamp": 1688151852333,
     "user": {
      "displayName": "Yunqi Gu",
      "userId": "13265072965839909559"
     },
     "user_tz": 420
    },
    "id": "DCehzlJJbDGz",
    "outputId": "2299b411-77fc-4964-d200-252ff72adb8b"
   },
   "outputs": [],
   "source": [
    "# A comparison of predicted and ground truth\n",
    "fig, axes = plt.subplots()\n",
    "\n",
    "axes.imshow(np.array(image))\n",
    "medsam_seg = cv2.resize(medsam_seg, (112, 112), interpolation = cv2.INTER_NEAREST)\n",
    "show_mask(medsam_seg, axes)\n",
    "show_box(prompt, axes)\n",
    "axes.title.set_text(f\"Predicted mask\")\n",
    "axes.axis(\"off\")\n",
    "\n",
    "fig, axes = plt.subplots()\n",
    "\n",
    "axes.imshow(np.array(image))\n",
    "show_mask(ground_truth_mask, axes)\n",
    "show_box(prompt, axes)\n",
    "axes.title.set_text(f\"Ground truth mask\")\n",
    "axes.axis(\"off\")"
   ]
  },
  {
   "cell_type": "markdown",
   "metadata": {
    "id": "e_fCVFXAAZF3"
   },
   "source": [
    "# Evaluation"
   ]
  },
  {
   "cell_type": "code",
   "execution_count": null,
   "metadata": {
    "id": "5w6bVF4YAbhG"
   },
   "outputs": [],
   "source": [
    "def dice_metric(inputs, target):\n",
    "    intersection = 2.0 * (target * inputs).sum()\n",
    "    union = target.sum() + inputs.sum()\n",
    "    if target.sum() == 0 and inputs.sum() == 0:\n",
    "        return 1.0\n",
    "\n",
    "    return intersection / union"
   ]
  },
  {
   "cell_type": "code",
   "execution_count": null,
   "metadata": {
    "id": "hZnMJlM05Pu8"
   },
   "outputs": [],
   "source": [
    "#Adapted for EchoNet dataset; Load zero-shot masks\n",
    "from sklearn.metrics import jaccard_score\n",
    "\n",
    "\n",
    "Div=\"TEST\"\n",
    "from tqdm import tqdm\n",
    "\n",
    "\n",
    "#Select the Val set\n",
    "Val0=[s + \"_ED\" for s in Val]\n",
    "Val1=[s + \"_ES\" for s in Val]\n",
    "z=sorted(Val0+Val1)\n",
    "\n",
    "name_mapper = {'TRAIN': Train, 'VAL': Val, 'TEST': Test}\n",
    "z=sorted([s + \"_ED\" for s in name_mapper[Div]]+[s + \"_ES\" for s in name_mapper[Div]])"
   ]
  },
  {
   "cell_type": "code",
   "execution_count": null,
   "metadata": {},
   "outputs": [],
   "source": [
    "remove_ls = ['0X234005774F4CB5CD_ED', '0X234005774F4CB5CD_ES', '0X2DC68261CBCC04AE_ED', '0X2DC68261CBCC04AE_ES', '0X35291BE9AB90FB89_ED', '0X35291BE9AB90FB89_ES', '0X5515B0BD077BE68A_ED', '0X5515B0BD077BE68A_ES', '0X6C435C1B417FDE8A_ED', '0X6C435C1B417FDE8A_ES', '0X5DD5283AC43CCDD1_ED', '0X5DD5283AC43CCDD1_ES']\n",
    "for i in remove_ls:\n",
    "    if i in Val0:\n",
    "        Val0.remove(i)\n",
    "    if i in Val1:\n",
    "        Val1.remove(i)"
   ]
  },
  {
   "cell_type": "code",
   "execution_count": null,
   "metadata": {
    "colab": {
     "base_uri": "https://localhost:8080/",
     "height": 253
    },
    "executionInfo": {
     "elapsed": 23821,
     "status": "error",
     "timestamp": 1688148687783,
     "user": {
      "displayName": "Yunqi Gu",
      "userId": "13265072965839909559"
     },
     "user_tz": 420
    },
    "id": "a7KkxWQKkDkF",
    "outputId": "43bbe797-d46b-43f7-c96e-556310128e61"
   },
   "outputs": [],
   "source": [
    "from collections import defaultdict\n",
    "\n",
    "import torch\n",
    "\n",
    "from PIL import Image\n",
    "\n",
    "from segment_anything.utils.transforms import ResizeLongestSide\n",
    "\n",
    "transformed_data = defaultdict(dict)\n",
    "\n",
    "val_images = []\n",
    "val_masks = []\n",
    "val_boxes = []\n",
    "val_names = []\n",
    "\n",
    "with torch.no_grad():\n",
    "    for k in tqdm(z[0:2576]):#bbox_coords.keys():\n",
    "        image = cv2.imread(f'Images/{Div}/{k}.jpg')\n",
    "        image = cv2.cvtColor(image, cv2.COLOR_BGR2RGB)\n",
    "\n",
    "        val_images.append(image)\n",
    "        original_image_size = image.shape[:2]\n",
    "\n",
    "        gt_grayscale = cv2.imread(f'Labels/{Div}/{k}.png', cv2.IMREAD_GRAYSCALE)\n",
    "        mask = (gt_grayscale == gt_grayscale.max())\n",
    "        mask = torch.tensor(mask).cpu()\n",
    "        mask = (mask > 0).float()\n",
    "        val_masks.append(mask)\n",
    "\n",
    "        val_boxes.append(bbox_coords[k])\n",
    "        \n",
    "        val_names.append(k)\n",
    "\n",
    "print(len(val_images), len(val_masks))"
   ]
  },
  {
   "cell_type": "code",
   "execution_count": null,
   "metadata": {},
   "outputs": [],
   "source": [
    "from PIL import Image"
   ]
  },
  {
   "cell_type": "code",
   "execution_count": null,
   "metadata": {},
   "outputs": [],
   "source": [
    "print(val_names[0])"
   ]
  },
  {
   "cell_type": "code",
   "execution_count": null,
   "metadata": {
    "colab": {
     "base_uri": "https://localhost:8080/",
     "height": 1000
    },
    "executionInfo": {
     "elapsed": 116251,
     "status": "ok",
     "timestamp": 1688100955811,
     "user": {
      "displayName": "Yunqi Gu",
      "userId": "13265072965839909559"
     },
     "user_tz": 420
    },
    "id": "7C_AaPnymy_A",
    "outputId": "75a831c6-f512-483b-e8e2-e574cf890199",
    "scrolled": true
   },
   "outputs": [],
   "source": [
    "# Eval in 112\n",
    "\n",
    "ground_truth_masks = []\n",
    "pred_masks = []\n",
    "\n",
    "print_idx = 0\n",
    "for i in tqdm(range(2554)):\n",
    "  image = val_images[i]\n",
    "  mask = val_masks[i]\n",
    "  name = val_names[i]\n",
    "  ground_truth_masks.append(mask)\n",
    "  prompt = val_boxes[i].tolist()\n",
    "  inputs = processor(image, input_boxes=[[prompt]], return_tensors=\"pt\").to(device)\n",
    "\n",
    "  model.eval()\n",
    "\n",
    "  with torch.no_grad():\n",
    "      outputs = model(**inputs, multimask_output=False)\n",
    "\n",
    "  # apply sigmoid\n",
    "  medsam_seg_prob = torch.sigmoid(outputs.pred_masks.squeeze(1))\n",
    "  # convert soft mask to hard mask\n",
    "  medsam_seg_prob = medsam_seg_prob.cpu().numpy().squeeze()\n",
    "  medsam_seg = (medsam_seg_prob > 0.5).astype(np.uint8)\n",
    "  medsam_seg = cv2.resize(medsam_seg, (112, 112), interpolation = cv2.INTER_NEAREST)\n",
    "  pred_masks.append(medsam_seg)\n",
    "  rgb_data = np.zeros((112, 112, 3), dtype=np.uint8)\n",
    "  rgb_data[medsam_seg == 1] = [255, 255, 255]  # White\n",
    "  rgb_data[medsam_seg == 0] = [0, 0, 0]        # Black\n",
    "\n",
    "  img = Image.fromarray(rgb_data)\n",
    "  img.save(f'masks/test/{name}.png')\n",
    "  '''\n",
    "  predictions, label= pred_masks[i],ground_truth_masks[i]\n",
    "  iou = jaccard_score(predictions, label, average=\"micro\")\n",
    "  dice = dice_metric(predictions, label).item()\n",
    "  #print(\"iou: \", iou)\n",
    "  #print(\"dice: \", dice)\n",
    "  '''\n",
    "\n",
    "'''\n",
    "  if dice - 0.958 < 0.005 and 0.958 - dice < 0.005:\n",
    "    print(\"i: \", i)\n",
    "    print(\"iou: \", iou)\n",
    "    print(\"dice: \", dice)\n",
    "    fig, axes = plt.subplots()\n",
    "    axes.imshow(np.array(image))\n",
    "    show_mask(medsam_seg, axes)\n",
    "    show_box(prompt, axes)\n",
    "    axes.title.set_text(f\"Predicted mask\")\n",
    "    axes.axis(\"off\")\n",
    "    \n",
    "    fig, axes = plt.subplots()\n",
    "    axes.imshow(np.array(image))\n",
    "    show_mask(mask, axes)\n",
    "    show_box(prompt, axes)\n",
    "    axes.title.set_text(f\"Ground truth mask\")\n",
    "    axes.axis(\"off\")\n",
    "    \n",
    "    print_idx += 1\n",
    "    \n",
    "    %matplotlib inline \n",
    "    _, axs = plt.subplots(1, 2, figsize=(25, 25))\n",
    "\n",
    "\n",
    "    axs[0].imshow(np.array(image))\n",
    "    show_mask(medsam_seg, axs[0])\n",
    "    show_box(prompt, axs[0])\n",
    "    axs[0].set_title(\"Predicted mask\", fontsize=26)\n",
    "    axs[0].axis('off')\n",
    "\n",
    "\n",
    "    axs[1].imshow(np.array(image))\n",
    "    show_mask(mask, axs[1])\n",
    "    show_box(prompt, axs[1])\n",
    "    axs[1].set_title(\"Ground truth mask\", fontsize=26)\n",
    "    axs[1].axis('off')\n",
    "\n",
    "    plt.show()  \n",
    "'''\n",
    "\n",
    "iou=[]\n",
    "dice=[]\n",
    "for i in tqdm(range(2576)):\n",
    "    predictions, label= pred_masks[i],ground_truth_masks[i]\n",
    "    iou.append(jaccard_score(predictions, label, average=\"micro\"))\n",
    "    dice.append(dice_metric(predictions, label))\n",
    "\n",
    "print(\"mean IoU:\" f'{np.mean(np.array(iou))}')\n",
    "print(\"mean Dice:\" f'{np.mean(np.array(dice))}')"
   ]
  },
  {
   "cell_type": "code",
   "execution_count": null,
   "metadata": {},
   "outputs": [],
   "source": []
  },
  {
   "cell_type": "code",
   "execution_count": null,
   "metadata": {},
   "outputs": [],
   "source": [
    "print(z[123])"
   ]
  },
  {
   "cell_type": "code",
   "execution_count": null,
   "metadata": {},
   "outputs": [],
   "source": [
    "plt.close()"
   ]
  },
  {
   "cell_type": "code",
   "execution_count": null,
   "metadata": {},
   "outputs": [],
   "source": [
    "print(\"mean IoU:\" f'{np.mean(np.array(iou))}')\n",
    "print(\"mean Dice:\" f'{np.mean(np.array(dice))}')\n",
    "print(\"Iou 2.5%, 97.5:\" f'{np.percentile(np.array(iou), 2.5),np.percentile(np.array(iou), 97.5)}')\n",
    "print(\"Dice 2.5%, 97.5:\" f'{np.percentile(np.array(dice), 2.5),np.percentile(np.array(dice), 97.5)}')\n"
   ]
  },
  {
   "cell_type": "code",
   "execution_count": null,
   "metadata": {
    "colab": {
     "base_uri": "https://localhost:8080/",
     "height": 1000
    },
    "executionInfo": {
     "elapsed": 116251,
     "status": "ok",
     "timestamp": 1688100955811,
     "user": {
      "displayName": "Yunqi Gu",
      "userId": "13265072965839909559"
     },
     "user_tz": 420
    },
    "id": "7C_AaPnymy_A",
    "outputId": "75a831c6-f512-483b-e8e2-e574cf890199"
   },
   "outputs": [],
   "source": [
    "# Eval in 256\n",
    "from collections import defaultdict\n",
    "\n",
    "import torch\n",
    "\n",
    "from PIL import Image\n",
    "\n",
    "from segment_anything.utils.transforms import ResizeLongestSide\n",
    "\n",
    "transformed_data = defaultdict(dict)\n",
    "\n",
    "val_images = []\n",
    "val_masks = []\n",
    "val_boxes = []\n",
    "\n",
    "with torch.no_grad():\n",
    "    for k in tqdm(z[:1000]):#bbox_coords.keys():\n",
    "        image = cv2.imread(f'Images/{Div}/{k}.jpg')\n",
    "        image = cv2.cvtColor(image, cv2.COLOR_BGR2RGB)\n",
    "\n",
    "        val_images.append(image)\n",
    "        original_image_size = image.shape[:2]\n",
    "\n",
    "        gt_grayscale = cv2.imread(f'Labels/{Div}/{k}.png', cv2.IMREAD_GRAYSCALE)\n",
    "        gt_grayscale = cv2.resize(gt_grayscale, (256, 256), interpolation = cv2.INTER_NEAREST)\n",
    "        mask = (gt_grayscale == gt_grayscale.max())\n",
    "        mask = torch.tensor(mask).cpu()\n",
    "        mask = (mask > 0).float()\n",
    "        val_masks.append(mask)\n",
    "\n",
    "        val_boxes.append(bbox_coords[k])\n",
    "\n",
    "print(len(val_images), len(val_masks))\n",
    "ground_truth_masks = []\n",
    "pred_masks = []\n",
    "\n",
    "print_idx = 0\n",
    "for i in tqdm(range(1000)):\n",
    "  image = val_images[i]\n",
    "  mask = val_masks[i]\n",
    "  ground_truth_masks.append(mask)\n",
    "  prompt = val_boxes[i].tolist()\n",
    "  inputs = processor(image, input_boxes=[[prompt]], return_tensors=\"pt\").to(device)\n",
    "\n",
    "  model.eval()\n",
    "\n",
    "  with torch.no_grad():\n",
    "      outputs = model(**inputs, multimask_output=False)\n",
    "\n",
    "  # apply sigmoid\n",
    "  medsam_seg_prob = torch.sigmoid(outputs.pred_masks.squeeze(1))\n",
    "  # convert soft mask to hard mask\n",
    "  medsam_seg_prob = medsam_seg_prob.cpu().numpy().squeeze()\n",
    "  medsam_seg = (medsam_seg_prob > 0.5).astype(np.uint8)\n",
    "  #medsam_seg = cv2.resize(medsam_seg, (112, 112), interpolation = cv2.INTER_NEAREST)\n",
    "  pred_masks.append(medsam_seg)\n",
    "\n",
    "  if print_idx < 10:\n",
    "    image = cv2.resize(image, (256, 256), interpolation = cv2.INTER_NEAREST)\n",
    "    fig, axes = plt.subplots()\n",
    "    axes.imshow(np.array(image))\n",
    "    show_mask(medsam_seg, axes)\n",
    "    show_box(prompt, axes)\n",
    "    axes.title.set_text(f\"Predicted mask\")\n",
    "    axes.axis(\"off\")\n",
    "    fig, axes = plt.subplots()\n",
    "    axes.imshow(np.array(image))\n",
    "    show_mask(mask, axes)\n",
    "    show_box(prompt, axes)\n",
    "    axes.title.set_text(f\"Ground truth mask\")\n",
    "    axes.axis(\"off\")\n",
    "    print_idx += 1\n",
    "\n",
    "iou=[]\n",
    "dice=[]\n",
    "for i in tqdm(range(1000)):\n",
    "    predictions, label= pred_masks[i],ground_truth_masks[i]\n",
    "    print(predictions.shape)\n",
    "    print(label.shape)\n",
    "    iou.append(jaccard_score(predictions, label, average=\"micro\"))\n",
    "    dice.append(dice_metric(predictions, label))\n",
    "\n",
    "print(\"mean IoU:\" f'{np.mean(np.array(iou))}')\n",
    "print(\"mean Dice:\" f'{np.mean(np.array(dice))}')"
   ]
  },
  {
   "cell_type": "markdown",
   "metadata": {},
   "source": [
    "# Separate Eval"
   ]
  },
  {
   "cell_type": "code",
   "execution_count": null,
   "metadata": {},
   "outputs": [],
   "source": [
    "#Adapted for EchoNet dataset; Load zero-shot masks\n",
    "from sklearn.metrics import jaccard_score\n",
    "\n",
    "\n",
    "Div=\"TRAIN\"\n",
    "from tqdm import tqdm\n",
    "ground_truth_masks = []\n",
    "pred_masks = []\n",
    "\n",
    "#Select the Val set\n",
    "Val0=[s + \"_ED\" for s in Train]\n",
    "Val1=[s + \"_ES\" for s in Train]\n",
    "z=sorted(Val0+Val1)\n",
    "\n",
    "z0 = sorted(Val0)\n",
    "z1 = sorted(Val1)"
   ]
  },
  {
   "cell_type": "code",
   "execution_count": null,
   "metadata": {},
   "outputs": [],
   "source": [
    "remove_ls = ['0X234005774F4CB5CD_ED', '0X234005774F4CB5CD_ES', '0X2DC68261CBCC04AE_ED', '0X2DC68261CBCC04AE_ES', '0X35291BE9AB90FB89_ED', '0X35291BE9AB90FB89_ES', '0X5515B0BD077BE68A_ED', '0X5515B0BD077BE68A_ES', '0X6C435C1B417FDE8A_ED', '0X6C435C1B417FDE8A_ES', '0X5DD5283AC43CCDD1_ED', '0X5DD5283AC43CCDD1_ES']\n",
    "for i in remove_ls:\n",
    "    if i in z0:\n",
    "        z0.remove(i)\n",
    "    if i in z1:\n",
    "        z1.remove(i)"
   ]
  },
  {
   "cell_type": "code",
   "execution_count": null,
   "metadata": {},
   "outputs": [],
   "source": [
    "from collections import defaultdict\n",
    "\n",
    "import torch\n",
    "\n",
    "from PIL import Image\n",
    "\n",
    "from segment_anything.utils.transforms import ResizeLongestSide\n",
    "\n",
    "transformed_data = defaultdict(dict)\n",
    "\n",
    "val_images0 = []\n",
    "val_masks0 = []\n",
    "val_boxes0 = []\n",
    "\n",
    "with torch.no_grad():\n",
    "    for k in tqdm(z0):#bbox_coords.keys():\n",
    "        image = cv2.imread(f'Images/{Div}/{k}.jpg')\n",
    "        image = cv2.cvtColor(image, cv2.COLOR_BGR2RGB)\n",
    "\n",
    "        val_images0.append(image)\n",
    "        original_image_size = image.shape[:2]\n",
    "\n",
    "        gt_grayscale = cv2.imread(f'Labels/{Div}/{k}.png', cv2.IMREAD_GRAYSCALE)\n",
    "        mask = (gt_grayscale == gt_grayscale.max())\n",
    "        mask = torch.tensor(mask).cpu()\n",
    "        mask = (mask > 0).float()\n",
    "        val_masks0.append(mask)\n",
    "\n",
    "        val_boxes0.append(bbox_coords[k])\n",
    "\n",
    "print(len(val_images0), len(val_masks0))"
   ]
  },
  {
   "cell_type": "code",
   "execution_count": null,
   "metadata": {},
   "outputs": [],
   "source": [
    "transformed_data = defaultdict(dict)\n",
    "\n",
    "val_images1 = []\n",
    "val_masks1 = []\n",
    "val_boxes1 = []\n",
    "\n",
    "with torch.no_grad():\n",
    "    for k in tqdm(z1):#bbox_coords.keys():\n",
    "        image = cv2.imread(f'Images/{Div}/{k}.jpg')\n",
    "        image = cv2.cvtColor(image, cv2.COLOR_BGR2RGB)\n",
    "\n",
    "        val_images1.append(image)\n",
    "        original_image_size = image.shape[:2]\n",
    "\n",
    "        gt_grayscale = cv2.imread(f'Labels/{Div}/{k}.png', cv2.IMREAD_GRAYSCALE)\n",
    "        mask = (gt_grayscale == gt_grayscale.max())\n",
    "        mask = torch.tensor(mask).cpu()\n",
    "        mask = (mask > 0).float()\n",
    "        val_masks1.append(mask)\n",
    "\n",
    "        val_boxes1.append(bbox_coords[k])\n",
    "\n",
    "print(len(val_images1), len(val_masks1))"
   ]
  },
  {
   "cell_type": "code",
   "execution_count": null,
   "metadata": {},
   "outputs": [],
   "source": [
    "# 0 - ED, 1-ES\n",
    "val_images = val_images1\n",
    "val_masks = val_masks1\n",
    "val_boxes = val_boxes1\n",
    "\n",
    "# Eval in 112\n",
    "\n",
    "ground_truth_masks = []\n",
    "pred_masks = []\n",
    "\n",
    "print_idx = 0\n",
    "for i in tqdm(range(7460)):\n",
    "  image = val_images[i]\n",
    "  mask = val_masks[i]\n",
    "  ground_truth_masks.append(mask)\n",
    "  prompt = val_boxes[i].tolist()\n",
    "  inputs = processor(image, input_boxes=[[prompt]], return_tensors=\"pt\").to(device)\n",
    "\n",
    "  model.eval()\n",
    "\n",
    "  with torch.no_grad():\n",
    "      outputs = model(**inputs, multimask_output=False)\n",
    "\n",
    "  # apply sigmoid\n",
    "  medsam_seg_prob = torch.sigmoid(outputs.pred_masks.squeeze(1))\n",
    "  # convert soft mask to hard mask\n",
    "  medsam_seg_prob = medsam_seg_prob.cpu().numpy().squeeze()\n",
    "  medsam_seg = (medsam_seg_prob > 0.5).astype(np.uint8)\n",
    "  medsam_seg = cv2.resize(medsam_seg, (112, 112), interpolation = cv2.INTER_NEAREST)\n",
    "  pred_masks.append(medsam_seg)\n",
    "\n",
    "  if print_idx < 10:\n",
    "    fig, axes = plt.subplots()\n",
    "    axes.imshow(np.array(image))\n",
    "    show_mask(medsam_seg, axes)\n",
    "    show_box(prompt, axes)\n",
    "    axes.title.set_text(f\"Predicted mask\")\n",
    "    axes.axis(\"off\")\n",
    "    fig, axes = plt.subplots()\n",
    "    axes.imshow(np.array(image))\n",
    "    show_mask(mask, axes)\n",
    "    show_box(prompt, axes)\n",
    "    axes.title.set_text(f\"Ground truth mask\")\n",
    "    axes.axis(\"off\")\n",
    "    print_idx += 1\n",
    "\n",
    "iou=[]\n",
    "dice=[]\n",
    "for i in tqdm(range(7460)):\n",
    "    predictions, label= pred_masks[i],ground_truth_masks[i]\n",
    "    iou.append(jaccard_score(predictions, label, average=\"micro\"))\n",
    "    dice.append(dice_metric(predictions, label))\n",
    "\n",
    "print(\"mean IoU:\" f'{np.mean(np.array(iou))}')\n",
    "print(\"mean Dice:\" f'{np.mean(np.array(dice))}')\n",
    "print(\"Iou 2.5%, 97.5:\" f'{np.percentile(np.array(iou), 2.5),np.percentile(np.array(iou), 97.5)}')\n",
    "print(\"Dice 2.5%, 97.5:\" f'{np.percentile(np.array(dice), 2.5),np.percentile(np.array(dice), 97.5)}')\n"
   ]
  },
  {
   "cell_type": "code",
   "execution_count": null,
   "metadata": {},
   "outputs": [],
   "source": [
    "print(\"mean IoU:\" f'{np.mean(np.array(iou))}')\n",
    "print(\"mean Dice:\" f'{np.mean(np.array(dice))}')\n",
    "print(\"Iou 2.5%, 97.5:\" f'{np.percentile(np.array(iou), 2.5),np.percentile(np.array(iou), 97.5)}')\n",
    "print(\"Dice 2.5%, 97.5:\" f'{np.percentile(np.array(dice), 2.5),np.percentile(np.array(dice), 97.5)}')"
   ]
  },
  {
   "cell_type": "markdown",
   "metadata": {
    "id": "bkKnp-mtRyZl"
   },
   "source": [
    "## Legacy\n",
    "\n",
    "The code below was used during the creation of this notebook, but was eventually not used anymore."
   ]
  },
  {
   "cell_type": "code",
   "execution_count": null,
   "metadata": {
    "id": "eA6SSA_GR4dU"
   },
   "outputs": [],
   "source": [
    "import torch.nn.functional as F\n",
    "from typing import Tuple\n",
    "from torch.nn import MSELoss\n",
    "\n",
    "loss_fn = MSELoss()\n",
    "\n",
    "def postprocess_masks(masks: torch.Tensor, input_size: Tuple[int, ...], original_size: Tuple[int, ...], image_size=1024) -> torch.Tensor:\n",
    "    \"\"\"\n",
    "    Remove padding and upscale masks to the original image size.\n",
    "\n",
    "    Args:\n",
    "      masks (torch.Tensor):\n",
    "        Batched masks from the mask_decoder, in BxCxHxW format.\n",
    "      input_size (tuple(int, int)):\n",
    "        The size of the image input to the model, in (H, W) format. Used to remove padding.\n",
    "      original_size (tuple(int, int)):\n",
    "        The original size of the image before resizing for input to the model, in (H, W) format.\n",
    "\n",
    "    Returns:\n",
    "      (torch.Tensor): Batched masks in BxCxHxW format, where (H, W)\n",
    "        is given by original_size.\n",
    "    \"\"\"\n",
    "    masks = F.interpolate(\n",
    "        masks,\n",
    "        (image_size, image_size),\n",
    "        mode=\"bilinear\",\n",
    "        align_corners=False,\n",
    "    )\n",
    "    masks = masks[..., : input_size[0], : input_size[1]]\n",
    "    masks = F.interpolate(masks, original_size, mode=\"bilinear\", align_corners=False)\n",
    "    return masks"
   ]
  },
  {
   "cell_type": "code",
   "execution_count": null,
   "metadata": {
    "id": "EuYtdSNFRy64"
   },
   "outputs": [],
   "source": [
    "# upscaled_masks = postprocess_masks(low_res_masks.squeeze(1), batch[\"reshaped_input_sizes\"][0].tolist(), batch[\"original_sizes\"][0].tolist()).to(device)\n",
    "# predicted_masks = normalize(threshold(upscaled_masks, 0.0, 0)).squeeze(1)\n",
    "# loss = loss_fn(predicted_masks, ground_truth_masks)"
   ]
  },
  {
   "cell_type": "code",
   "execution_count": null,
   "metadata": {
    "id": "2FEs58oPbNTv"
   },
   "outputs": [],
   "source": []
  }
 ],
 "metadata": {
  "accelerator": "GPU",
  "colab": {
   "gpuType": "A100",
   "machine_shape": "hm",
   "provenance": [
    {
     "file_id": "https://github.com/NielsRogge/Transformers-Tutorials/blob/master/SAM/Fine_tune_SAM_(segment_anything)_on_a_custom_dataset.ipynb",
     "timestamp": 1687986551794
    }
   ]
  },
  "kernelspec": {
   "display_name": "Python 3 (ipykernel)",
   "language": "python",
   "name": "python3"
  },
  "language_info": {
   "codemirror_mode": {
    "name": "ipython",
    "version": 3
   },
   "file_extension": ".py",
   "mimetype": "text/x-python",
   "name": "python",
   "nbconvert_exporter": "python",
   "pygments_lexer": "ipython3",
   "version": "3.10.9"
  },
  "widgets": {
   "application/vnd.jupyter.widget-state+json": {
    "0682113f737d421cb9763eabf09e7cc6": {
     "model_module": "@jupyter-widgets/base",
     "model_module_version": "1.2.0",
     "model_name": "LayoutModel",
     "state": {
      "_model_module": "@jupyter-widgets/base",
      "_model_module_version": "1.2.0",
      "_model_name": "LayoutModel",
      "_view_count": null,
      "_view_module": "@jupyter-widgets/base",
      "_view_module_version": "1.2.0",
      "_view_name": "LayoutView",
      "align_content": null,
      "align_items": null,
      "align_self": null,
      "border": null,
      "bottom": null,
      "display": null,
      "flex": null,
      "flex_flow": null,
      "grid_area": null,
      "grid_auto_columns": null,
      "grid_auto_flow": null,
      "grid_auto_rows": null,
      "grid_column": null,
      "grid_gap": null,
      "grid_row": null,
      "grid_template_areas": null,
      "grid_template_columns": null,
      "grid_template_rows": null,
      "height": null,
      "justify_content": null,
      "justify_items": null,
      "left": null,
      "margin": null,
      "max_height": null,
      "max_width": null,
      "min_height": null,
      "min_width": null,
      "object_fit": null,
      "object_position": null,
      "order": null,
      "overflow": null,
      "overflow_x": null,
      "overflow_y": null,
      "padding": null,
      "right": null,
      "top": null,
      "visibility": null,
      "width": null
     }
    },
    "0737146b46b54d629afac4028ab9ed8c": {
     "model_module": "@jupyter-widgets/controls",
     "model_module_version": "1.5.0",
     "model_name": "DescriptionStyleModel",
     "state": {
      "_model_module": "@jupyter-widgets/controls",
      "_model_module_version": "1.5.0",
      "_model_name": "DescriptionStyleModel",
      "_view_count": null,
      "_view_module": "@jupyter-widgets/base",
      "_view_module_version": "1.2.0",
      "_view_name": "StyleView",
      "description_width": ""
     }
    },
    "07a7c088101f42ed8ce670ebb8ac1072": {
     "model_module": "@jupyter-widgets/base",
     "model_module_version": "1.2.0",
     "model_name": "LayoutModel",
     "state": {
      "_model_module": "@jupyter-widgets/base",
      "_model_module_version": "1.2.0",
      "_model_name": "LayoutModel",
      "_view_count": null,
      "_view_module": "@jupyter-widgets/base",
      "_view_module_version": "1.2.0",
      "_view_name": "LayoutView",
      "align_content": null,
      "align_items": null,
      "align_self": null,
      "border": null,
      "bottom": null,
      "display": null,
      "flex": null,
      "flex_flow": null,
      "grid_area": null,
      "grid_auto_columns": null,
      "grid_auto_flow": null,
      "grid_auto_rows": null,
      "grid_column": null,
      "grid_gap": null,
      "grid_row": null,
      "grid_template_areas": null,
      "grid_template_columns": null,
      "grid_template_rows": null,
      "height": null,
      "justify_content": null,
      "justify_items": null,
      "left": null,
      "margin": null,
      "max_height": null,
      "max_width": null,
      "min_height": null,
      "min_width": null,
      "object_fit": null,
      "object_position": null,
      "order": null,
      "overflow": null,
      "overflow_x": null,
      "overflow_y": null,
      "padding": null,
      "right": null,
      "top": null,
      "visibility": null,
      "width": null
     }
    },
    "13f409b9c328438189f5f3556817a9f1": {
     "model_module": "@jupyter-widgets/base",
     "model_module_version": "1.2.0",
     "model_name": "LayoutModel",
     "state": {
      "_model_module": "@jupyter-widgets/base",
      "_model_module_version": "1.2.0",
      "_model_name": "LayoutModel",
      "_view_count": null,
      "_view_module": "@jupyter-widgets/base",
      "_view_module_version": "1.2.0",
      "_view_name": "LayoutView",
      "align_content": null,
      "align_items": null,
      "align_self": null,
      "border": null,
      "bottom": null,
      "display": null,
      "flex": null,
      "flex_flow": null,
      "grid_area": null,
      "grid_auto_columns": null,
      "grid_auto_flow": null,
      "grid_auto_rows": null,
      "grid_column": null,
      "grid_gap": null,
      "grid_row": null,
      "grid_template_areas": null,
      "grid_template_columns": null,
      "grid_template_rows": null,
      "height": null,
      "justify_content": null,
      "justify_items": null,
      "left": null,
      "margin": null,
      "max_height": null,
      "max_width": null,
      "min_height": null,
      "min_width": null,
      "object_fit": null,
      "object_position": null,
      "order": null,
      "overflow": null,
      "overflow_x": null,
      "overflow_y": null,
      "padding": null,
      "right": null,
      "top": null,
      "visibility": null,
      "width": null
     }
    },
    "20fe32d5d88b428aa956bc0edcd42f37": {
     "model_module": "@jupyter-widgets/base",
     "model_module_version": "1.2.0",
     "model_name": "LayoutModel",
     "state": {
      "_model_module": "@jupyter-widgets/base",
      "_model_module_version": "1.2.0",
      "_model_name": "LayoutModel",
      "_view_count": null,
      "_view_module": "@jupyter-widgets/base",
      "_view_module_version": "1.2.0",
      "_view_name": "LayoutView",
      "align_content": null,
      "align_items": null,
      "align_self": null,
      "border": null,
      "bottom": null,
      "display": null,
      "flex": null,
      "flex_flow": null,
      "grid_area": null,
      "grid_auto_columns": null,
      "grid_auto_flow": null,
      "grid_auto_rows": null,
      "grid_column": null,
      "grid_gap": null,
      "grid_row": null,
      "grid_template_areas": null,
      "grid_template_columns": null,
      "grid_template_rows": null,
      "height": null,
      "justify_content": null,
      "justify_items": null,
      "left": null,
      "margin": null,
      "max_height": null,
      "max_width": null,
      "min_height": null,
      "min_width": null,
      "object_fit": null,
      "object_position": null,
      "order": null,
      "overflow": null,
      "overflow_x": null,
      "overflow_y": null,
      "padding": null,
      "right": null,
      "top": null,
      "visibility": null,
      "width": null
     }
    },
    "22b3610954784721ad878c681c8ecc35": {
     "model_module": "@jupyter-widgets/controls",
     "model_module_version": "1.5.0",
     "model_name": "DescriptionStyleModel",
     "state": {
      "_model_module": "@jupyter-widgets/controls",
      "_model_module_version": "1.5.0",
      "_model_name": "DescriptionStyleModel",
      "_view_count": null,
      "_view_module": "@jupyter-widgets/base",
      "_view_module_version": "1.2.0",
      "_view_name": "StyleView",
      "description_width": ""
     }
    },
    "231899aa69134a7f9e38e57d01e81c85": {
     "model_module": "@jupyter-widgets/controls",
     "model_module_version": "1.5.0",
     "model_name": "DescriptionStyleModel",
     "state": {
      "_model_module": "@jupyter-widgets/controls",
      "_model_module_version": "1.5.0",
      "_model_name": "DescriptionStyleModel",
      "_view_count": null,
      "_view_module": "@jupyter-widgets/base",
      "_view_module_version": "1.2.0",
      "_view_name": "StyleView",
      "description_width": ""
     }
    },
    "25b4394ce66b48c1b1a7c2d017e36ef5": {
     "model_module": "@jupyter-widgets/controls",
     "model_module_version": "1.5.0",
     "model_name": "HTMLModel",
     "state": {
      "_dom_classes": [],
      "_model_module": "@jupyter-widgets/controls",
      "_model_module_version": "1.5.0",
      "_model_name": "HTMLModel",
      "_view_count": null,
      "_view_module": "@jupyter-widgets/controls",
      "_view_module_version": "1.5.0",
      "_view_name": "HTMLView",
      "description": "",
      "description_tooltip": null,
      "layout": "IPY_MODEL_3499cab3c81c4e8a98f1e6eb96665adc",
      "placeholder": "​",
      "style": "IPY_MODEL_edf96c47da884dd2a1ecbc04382f8be7",
      "value": "Downloading (…)lve/main/config.json: 100%"
     }
    },
    "2a1c9f7eabc84dd1ba724ec3d00eb221": {
     "model_module": "@jupyter-widgets/controls",
     "model_module_version": "1.5.0",
     "model_name": "HTMLModel",
     "state": {
      "_dom_classes": [],
      "_model_module": "@jupyter-widgets/controls",
      "_model_module_version": "1.5.0",
      "_model_name": "HTMLModel",
      "_view_count": null,
      "_view_module": "@jupyter-widgets/controls",
      "_view_module_version": "1.5.0",
      "_view_name": "HTMLView",
      "description": "",
      "description_tooltip": null,
      "layout": "IPY_MODEL_3dfb397dbbc2428dac8acdc115274fd0",
      "placeholder": "​",
      "style": "IPY_MODEL_79c075c069384219a5bba1bcadbf4509",
      "value": " 6.57k/6.57k [00:00&lt;00:00, 562kB/s]"
     }
    },
    "3499cab3c81c4e8a98f1e6eb96665adc": {
     "model_module": "@jupyter-widgets/base",
     "model_module_version": "1.2.0",
     "model_name": "LayoutModel",
     "state": {
      "_model_module": "@jupyter-widgets/base",
      "_model_module_version": "1.2.0",
      "_model_name": "LayoutModel",
      "_view_count": null,
      "_view_module": "@jupyter-widgets/base",
      "_view_module_version": "1.2.0",
      "_view_name": "LayoutView",
      "align_content": null,
      "align_items": null,
      "align_self": null,
      "border": null,
      "bottom": null,
      "display": null,
      "flex": null,
      "flex_flow": null,
      "grid_area": null,
      "grid_auto_columns": null,
      "grid_auto_flow": null,
      "grid_auto_rows": null,
      "grid_column": null,
      "grid_gap": null,
      "grid_row": null,
      "grid_template_areas": null,
      "grid_template_columns": null,
      "grid_template_rows": null,
      "height": null,
      "justify_content": null,
      "justify_items": null,
      "left": null,
      "margin": null,
      "max_height": null,
      "max_width": null,
      "min_height": null,
      "min_width": null,
      "object_fit": null,
      "object_position": null,
      "order": null,
      "overflow": null,
      "overflow_x": null,
      "overflow_y": null,
      "padding": null,
      "right": null,
      "top": null,
      "visibility": null,
      "width": null
     }
    },
    "3bac970284df43078b91282c5f3f9323": {
     "model_module": "@jupyter-widgets/base",
     "model_module_version": "1.2.0",
     "model_name": "LayoutModel",
     "state": {
      "_model_module": "@jupyter-widgets/base",
      "_model_module_version": "1.2.0",
      "_model_name": "LayoutModel",
      "_view_count": null,
      "_view_module": "@jupyter-widgets/base",
      "_view_module_version": "1.2.0",
      "_view_name": "LayoutView",
      "align_content": null,
      "align_items": null,
      "align_self": null,
      "border": null,
      "bottom": null,
      "display": null,
      "flex": null,
      "flex_flow": null,
      "grid_area": null,
      "grid_auto_columns": null,
      "grid_auto_flow": null,
      "grid_auto_rows": null,
      "grid_column": null,
      "grid_gap": null,
      "grid_row": null,
      "grid_template_areas": null,
      "grid_template_columns": null,
      "grid_template_rows": null,
      "height": null,
      "justify_content": null,
      "justify_items": null,
      "left": null,
      "margin": null,
      "max_height": null,
      "max_width": null,
      "min_height": null,
      "min_width": null,
      "object_fit": null,
      "object_position": null,
      "order": null,
      "overflow": null,
      "overflow_x": null,
      "overflow_y": null,
      "padding": null,
      "right": null,
      "top": null,
      "visibility": null,
      "width": null
     }
    },
    "3dfb397dbbc2428dac8acdc115274fd0": {
     "model_module": "@jupyter-widgets/base",
     "model_module_version": "1.2.0",
     "model_name": "LayoutModel",
     "state": {
      "_model_module": "@jupyter-widgets/base",
      "_model_module_version": "1.2.0",
      "_model_name": "LayoutModel",
      "_view_count": null,
      "_view_module": "@jupyter-widgets/base",
      "_view_module_version": "1.2.0",
      "_view_name": "LayoutView",
      "align_content": null,
      "align_items": null,
      "align_self": null,
      "border": null,
      "bottom": null,
      "display": null,
      "flex": null,
      "flex_flow": null,
      "grid_area": null,
      "grid_auto_columns": null,
      "grid_auto_flow": null,
      "grid_auto_rows": null,
      "grid_column": null,
      "grid_gap": null,
      "grid_row": null,
      "grid_template_areas": null,
      "grid_template_columns": null,
      "grid_template_rows": null,
      "height": null,
      "justify_content": null,
      "justify_items": null,
      "left": null,
      "margin": null,
      "max_height": null,
      "max_width": null,
      "min_height": null,
      "min_width": null,
      "object_fit": null,
      "object_position": null,
      "order": null,
      "overflow": null,
      "overflow_x": null,
      "overflow_y": null,
      "padding": null,
      "right": null,
      "top": null,
      "visibility": null,
      "width": null
     }
    },
    "3fb3e9807d7b496a99db4666de697d4e": {
     "model_module": "@jupyter-widgets/base",
     "model_module_version": "1.2.0",
     "model_name": "LayoutModel",
     "state": {
      "_model_module": "@jupyter-widgets/base",
      "_model_module_version": "1.2.0",
      "_model_name": "LayoutModel",
      "_view_count": null,
      "_view_module": "@jupyter-widgets/base",
      "_view_module_version": "1.2.0",
      "_view_name": "LayoutView",
      "align_content": null,
      "align_items": null,
      "align_self": null,
      "border": null,
      "bottom": null,
      "display": null,
      "flex": null,
      "flex_flow": null,
      "grid_area": null,
      "grid_auto_columns": null,
      "grid_auto_flow": null,
      "grid_auto_rows": null,
      "grid_column": null,
      "grid_gap": null,
      "grid_row": null,
      "grid_template_areas": null,
      "grid_template_columns": null,
      "grid_template_rows": null,
      "height": null,
      "justify_content": null,
      "justify_items": null,
      "left": null,
      "margin": null,
      "max_height": null,
      "max_width": null,
      "min_height": null,
      "min_width": null,
      "object_fit": null,
      "object_position": null,
      "order": null,
      "overflow": null,
      "overflow_x": null,
      "overflow_y": null,
      "padding": null,
      "right": null,
      "top": null,
      "visibility": null,
      "width": null
     }
    },
    "43c8e4157479432cb8855f01e7988d36": {
     "model_module": "@jupyter-widgets/controls",
     "model_module_version": "1.5.0",
     "model_name": "ProgressStyleModel",
     "state": {
      "_model_module": "@jupyter-widgets/controls",
      "_model_module_version": "1.5.0",
      "_model_name": "ProgressStyleModel",
      "_view_count": null,
      "_view_module": "@jupyter-widgets/base",
      "_view_module_version": "1.2.0",
      "_view_name": "StyleView",
      "bar_color": null,
      "description_width": ""
     }
    },
    "44af333afe5040a2888217d71cb48162": {
     "model_module": "@jupyter-widgets/base",
     "model_module_version": "1.2.0",
     "model_name": "LayoutModel",
     "state": {
      "_model_module": "@jupyter-widgets/base",
      "_model_module_version": "1.2.0",
      "_model_name": "LayoutModel",
      "_view_count": null,
      "_view_module": "@jupyter-widgets/base",
      "_view_module_version": "1.2.0",
      "_view_name": "LayoutView",
      "align_content": null,
      "align_items": null,
      "align_self": null,
      "border": null,
      "bottom": null,
      "display": null,
      "flex": null,
      "flex_flow": null,
      "grid_area": null,
      "grid_auto_columns": null,
      "grid_auto_flow": null,
      "grid_auto_rows": null,
      "grid_column": null,
      "grid_gap": null,
      "grid_row": null,
      "grid_template_areas": null,
      "grid_template_columns": null,
      "grid_template_rows": null,
      "height": null,
      "justify_content": null,
      "justify_items": null,
      "left": null,
      "margin": null,
      "max_height": null,
      "max_width": null,
      "min_height": null,
      "min_width": null,
      "object_fit": null,
      "object_position": null,
      "order": null,
      "overflow": null,
      "overflow_x": null,
      "overflow_y": null,
      "padding": null,
      "right": null,
      "top": null,
      "visibility": null,
      "width": null
     }
    },
    "4cce64923dd44111aefd1ab0842dfd69": {
     "model_module": "@jupyter-widgets/controls",
     "model_module_version": "1.5.0",
     "model_name": "FloatProgressModel",
     "state": {
      "_dom_classes": [],
      "_model_module": "@jupyter-widgets/controls",
      "_model_module_version": "1.5.0",
      "_model_name": "FloatProgressModel",
      "_view_count": null,
      "_view_module": "@jupyter-widgets/controls",
      "_view_module_version": "1.5.0",
      "_view_name": "ProgressView",
      "bar_style": "success",
      "description": "",
      "description_tooltip": null,
      "layout": "IPY_MODEL_20fe32d5d88b428aa956bc0edcd42f37",
      "max": 375050165,
      "min": 0,
      "orientation": "horizontal",
      "style": "IPY_MODEL_a6ae6d2192144e618fef9360db9ae020",
      "value": 375050165
     }
    },
    "52d71f505e464e83b666a5593780e2e2": {
     "model_module": "@jupyter-widgets/base",
     "model_module_version": "1.2.0",
     "model_name": "LayoutModel",
     "state": {
      "_model_module": "@jupyter-widgets/base",
      "_model_module_version": "1.2.0",
      "_model_name": "LayoutModel",
      "_view_count": null,
      "_view_module": "@jupyter-widgets/base",
      "_view_module_version": "1.2.0",
      "_view_name": "LayoutView",
      "align_content": null,
      "align_items": null,
      "align_self": null,
      "border": null,
      "bottom": null,
      "display": null,
      "flex": null,
      "flex_flow": null,
      "grid_area": null,
      "grid_auto_columns": null,
      "grid_auto_flow": null,
      "grid_auto_rows": null,
      "grid_column": null,
      "grid_gap": null,
      "grid_row": null,
      "grid_template_areas": null,
      "grid_template_columns": null,
      "grid_template_rows": null,
      "height": null,
      "justify_content": null,
      "justify_items": null,
      "left": null,
      "margin": null,
      "max_height": null,
      "max_width": null,
      "min_height": null,
      "min_width": null,
      "object_fit": null,
      "object_position": null,
      "order": null,
      "overflow": null,
      "overflow_x": null,
      "overflow_y": null,
      "padding": null,
      "right": null,
      "top": null,
      "visibility": null,
      "width": null
     }
    },
    "54957b97fda541a0b7f15612e7da98b0": {
     "model_module": "@jupyter-widgets/controls",
     "model_module_version": "1.5.0",
     "model_name": "HBoxModel",
     "state": {
      "_dom_classes": [],
      "_model_module": "@jupyter-widgets/controls",
      "_model_module_version": "1.5.0",
      "_model_name": "HBoxModel",
      "_view_count": null,
      "_view_module": "@jupyter-widgets/controls",
      "_view_module_version": "1.5.0",
      "_view_name": "HBoxView",
      "box_style": "",
      "children": [
       "IPY_MODEL_25b4394ce66b48c1b1a7c2d017e36ef5",
       "IPY_MODEL_89ed92649f804c7e8edc28baa175d802",
       "IPY_MODEL_2a1c9f7eabc84dd1ba724ec3d00eb221"
      ],
      "layout": "IPY_MODEL_3bac970284df43078b91282c5f3f9323"
     }
    },
    "5d14961143654284b3ffe70338f6a659": {
     "model_module": "@jupyter-widgets/controls",
     "model_module_version": "1.5.0",
     "model_name": "HTMLModel",
     "state": {
      "_dom_classes": [],
      "_model_module": "@jupyter-widgets/controls",
      "_model_module_version": "1.5.0",
      "_model_name": "HTMLModel",
      "_view_count": null,
      "_view_module": "@jupyter-widgets/controls",
      "_view_module_version": "1.5.0",
      "_view_name": "HTMLView",
      "description": "",
      "description_tooltip": null,
      "layout": "IPY_MODEL_896b02d0a2934f38b582962944979c37",
      "placeholder": "​",
      "style": "IPY_MODEL_22b3610954784721ad878c681c8ecc35",
      "value": " 375M/375M [00:00&lt;00:00, 521MB/s]"
     }
    },
    "6bcbae951661447099b54b52f9f809f5": {
     "model_module": "@jupyter-widgets/controls",
     "model_module_version": "1.5.0",
     "model_name": "ProgressStyleModel",
     "state": {
      "_model_module": "@jupyter-widgets/controls",
      "_model_module_version": "1.5.0",
      "_model_name": "ProgressStyleModel",
      "_view_count": null,
      "_view_module": "@jupyter-widgets/base",
      "_view_module_version": "1.2.0",
      "_view_name": "StyleView",
      "bar_color": null,
      "description_width": ""
     }
    },
    "7474aa984303400e95c9cec7e998bd50": {
     "model_module": "@jupyter-widgets/controls",
     "model_module_version": "1.5.0",
     "model_name": "HTMLModel",
     "state": {
      "_dom_classes": [],
      "_model_module": "@jupyter-widgets/controls",
      "_model_module_version": "1.5.0",
      "_model_name": "HTMLModel",
      "_view_count": null,
      "_view_module": "@jupyter-widgets/controls",
      "_view_module_version": "1.5.0",
      "_view_name": "HTMLView",
      "description": "",
      "description_tooltip": null,
      "layout": "IPY_MODEL_07a7c088101f42ed8ce670ebb8ac1072",
      "placeholder": "​",
      "style": "IPY_MODEL_0737146b46b54d629afac4028ab9ed8c",
      "value": "Downloading pytorch_model.bin: 100%"
     }
    },
    "79c075c069384219a5bba1bcadbf4509": {
     "model_module": "@jupyter-widgets/controls",
     "model_module_version": "1.5.0",
     "model_name": "DescriptionStyleModel",
     "state": {
      "_model_module": "@jupyter-widgets/controls",
      "_model_module_version": "1.5.0",
      "_model_name": "DescriptionStyleModel",
      "_view_count": null,
      "_view_module": "@jupyter-widgets/base",
      "_view_module_version": "1.2.0",
      "_view_name": "StyleView",
      "description_width": ""
     }
    },
    "7efe61408ff04338b825f77d988ecede": {
     "model_module": "@jupyter-widgets/base",
     "model_module_version": "1.2.0",
     "model_name": "LayoutModel",
     "state": {
      "_model_module": "@jupyter-widgets/base",
      "_model_module_version": "1.2.0",
      "_model_name": "LayoutModel",
      "_view_count": null,
      "_view_module": "@jupyter-widgets/base",
      "_view_module_version": "1.2.0",
      "_view_name": "LayoutView",
      "align_content": null,
      "align_items": null,
      "align_self": null,
      "border": null,
      "bottom": null,
      "display": null,
      "flex": null,
      "flex_flow": null,
      "grid_area": null,
      "grid_auto_columns": null,
      "grid_auto_flow": null,
      "grid_auto_rows": null,
      "grid_column": null,
      "grid_gap": null,
      "grid_row": null,
      "grid_template_areas": null,
      "grid_template_columns": null,
      "grid_template_rows": null,
      "height": null,
      "justify_content": null,
      "justify_items": null,
      "left": null,
      "margin": null,
      "max_height": null,
      "max_width": null,
      "min_height": null,
      "min_width": null,
      "object_fit": null,
      "object_position": null,
      "order": null,
      "overflow": null,
      "overflow_x": null,
      "overflow_y": null,
      "padding": null,
      "right": null,
      "top": null,
      "visibility": null,
      "width": null
     }
    },
    "82c09d29f0dc43d286b4c9bf8c54a9df": {
     "model_module": "@jupyter-widgets/controls",
     "model_module_version": "1.5.0",
     "model_name": "DescriptionStyleModel",
     "state": {
      "_model_module": "@jupyter-widgets/controls",
      "_model_module_version": "1.5.0",
      "_model_name": "DescriptionStyleModel",
      "_view_count": null,
      "_view_module": "@jupyter-widgets/base",
      "_view_module_version": "1.2.0",
      "_view_name": "StyleView",
      "description_width": ""
     }
    },
    "885899f174014e76b5a6feb054d10298": {
     "model_module": "@jupyter-widgets/controls",
     "model_module_version": "1.5.0",
     "model_name": "HTMLModel",
     "state": {
      "_dom_classes": [],
      "_model_module": "@jupyter-widgets/controls",
      "_model_module_version": "1.5.0",
      "_model_name": "HTMLModel",
      "_view_count": null,
      "_view_module": "@jupyter-widgets/controls",
      "_view_module_version": "1.5.0",
      "_view_name": "HTMLView",
      "description": "",
      "description_tooltip": null,
      "layout": "IPY_MODEL_7efe61408ff04338b825f77d988ecede",
      "placeholder": "​",
      "style": "IPY_MODEL_a72abf7d5a354833aff91e8971aac31b",
      "value": "Downloading (…)lve/main/config.json: 100%"
     }
    },
    "896b02d0a2934f38b582962944979c37": {
     "model_module": "@jupyter-widgets/base",
     "model_module_version": "1.2.0",
     "model_name": "LayoutModel",
     "state": {
      "_model_module": "@jupyter-widgets/base",
      "_model_module_version": "1.2.0",
      "_model_name": "LayoutModel",
      "_view_count": null,
      "_view_module": "@jupyter-widgets/base",
      "_view_module_version": "1.2.0",
      "_view_name": "LayoutView",
      "align_content": null,
      "align_items": null,
      "align_self": null,
      "border": null,
      "bottom": null,
      "display": null,
      "flex": null,
      "flex_flow": null,
      "grid_area": null,
      "grid_auto_columns": null,
      "grid_auto_flow": null,
      "grid_auto_rows": null,
      "grid_column": null,
      "grid_gap": null,
      "grid_row": null,
      "grid_template_areas": null,
      "grid_template_columns": null,
      "grid_template_rows": null,
      "height": null,
      "justify_content": null,
      "justify_items": null,
      "left": null,
      "margin": null,
      "max_height": null,
      "max_width": null,
      "min_height": null,
      "min_width": null,
      "object_fit": null,
      "object_position": null,
      "order": null,
      "overflow": null,
      "overflow_x": null,
      "overflow_y": null,
      "padding": null,
      "right": null,
      "top": null,
      "visibility": null,
      "width": null
     }
    },
    "89ed92649f804c7e8edc28baa175d802": {
     "model_module": "@jupyter-widgets/controls",
     "model_module_version": "1.5.0",
     "model_name": "FloatProgressModel",
     "state": {
      "_dom_classes": [],
      "_model_module": "@jupyter-widgets/controls",
      "_model_module_version": "1.5.0",
      "_model_name": "FloatProgressModel",
      "_view_count": null,
      "_view_module": "@jupyter-widgets/controls",
      "_view_module_version": "1.5.0",
      "_view_name": "ProgressView",
      "bar_style": "success",
      "description": "",
      "description_tooltip": null,
      "layout": "IPY_MODEL_3fb3e9807d7b496a99db4666de697d4e",
      "max": 6566,
      "min": 0,
      "orientation": "horizontal",
      "style": "IPY_MODEL_6bcbae951661447099b54b52f9f809f5",
      "value": 6566
     }
    },
    "9a1e2ab7baf946f8a82b0d90c16f4001": {
     "model_module": "@jupyter-widgets/controls",
     "model_module_version": "1.5.0",
     "model_name": "HBoxModel",
     "state": {
      "_dom_classes": [],
      "_model_module": "@jupyter-widgets/controls",
      "_model_module_version": "1.5.0",
      "_model_name": "HBoxModel",
      "_view_count": null,
      "_view_module": "@jupyter-widgets/controls",
      "_view_module_version": "1.5.0",
      "_view_name": "HBoxView",
      "box_style": "",
      "children": [
       "IPY_MODEL_bc8c20eadb5145788820aa59b9b69c7f",
       "IPY_MODEL_d87fa2850e0b4e0193d3321c7b392132",
       "IPY_MODEL_5d14961143654284b3ffe70338f6a659"
      ],
      "layout": "IPY_MODEL_e5efc7dd03db49869ea9a04c9d2a1562"
     }
    },
    "a3b498f392b842799cd20cad52bc42fe": {
     "model_module": "@jupyter-widgets/base",
     "model_module_version": "1.2.0",
     "model_name": "LayoutModel",
     "state": {
      "_model_module": "@jupyter-widgets/base",
      "_model_module_version": "1.2.0",
      "_model_name": "LayoutModel",
      "_view_count": null,
      "_view_module": "@jupyter-widgets/base",
      "_view_module_version": "1.2.0",
      "_view_name": "LayoutView",
      "align_content": null,
      "align_items": null,
      "align_self": null,
      "border": null,
      "bottom": null,
      "display": null,
      "flex": null,
      "flex_flow": null,
      "grid_area": null,
      "grid_auto_columns": null,
      "grid_auto_flow": null,
      "grid_auto_rows": null,
      "grid_column": null,
      "grid_gap": null,
      "grid_row": null,
      "grid_template_areas": null,
      "grid_template_columns": null,
      "grid_template_rows": null,
      "height": null,
      "justify_content": null,
      "justify_items": null,
      "left": null,
      "margin": null,
      "max_height": null,
      "max_width": null,
      "min_height": null,
      "min_width": null,
      "object_fit": null,
      "object_position": null,
      "order": null,
      "overflow": null,
      "overflow_x": null,
      "overflow_y": null,
      "padding": null,
      "right": null,
      "top": null,
      "visibility": null,
      "width": null
     }
    },
    "a6ae6d2192144e618fef9360db9ae020": {
     "model_module": "@jupyter-widgets/controls",
     "model_module_version": "1.5.0",
     "model_name": "ProgressStyleModel",
     "state": {
      "_model_module": "@jupyter-widgets/controls",
      "_model_module_version": "1.5.0",
      "_model_name": "ProgressStyleModel",
      "_view_count": null,
      "_view_module": "@jupyter-widgets/base",
      "_view_module_version": "1.2.0",
      "_view_name": "StyleView",
      "bar_color": null,
      "description_width": ""
     }
    },
    "a72abf7d5a354833aff91e8971aac31b": {
     "model_module": "@jupyter-widgets/controls",
     "model_module_version": "1.5.0",
     "model_name": "DescriptionStyleModel",
     "state": {
      "_model_module": "@jupyter-widgets/controls",
      "_model_module_version": "1.5.0",
      "_model_name": "DescriptionStyleModel",
      "_view_count": null,
      "_view_module": "@jupyter-widgets/base",
      "_view_module_version": "1.2.0",
      "_view_name": "StyleView",
      "description_width": ""
     }
    },
    "b140bee2cf01484ea2cc7bbf5d920758": {
     "model_module": "@jupyter-widgets/controls",
     "model_module_version": "1.5.0",
     "model_name": "ProgressStyleModel",
     "state": {
      "_model_module": "@jupyter-widgets/controls",
      "_model_module_version": "1.5.0",
      "_model_name": "ProgressStyleModel",
      "_view_count": null,
      "_view_module": "@jupyter-widgets/base",
      "_view_module_version": "1.2.0",
      "_view_name": "StyleView",
      "bar_color": null,
      "description_width": ""
     }
    },
    "b42288ff854740e8926267527b5e4988": {
     "model_module": "@jupyter-widgets/controls",
     "model_module_version": "1.5.0",
     "model_name": "HBoxModel",
     "state": {
      "_dom_classes": [],
      "_model_module": "@jupyter-widgets/controls",
      "_model_module_version": "1.5.0",
      "_model_name": "HBoxModel",
      "_view_count": null,
      "_view_module": "@jupyter-widgets/controls",
      "_view_module_version": "1.5.0",
      "_view_name": "HBoxView",
      "box_style": "",
      "children": [
       "IPY_MODEL_885899f174014e76b5a6feb054d10298",
       "IPY_MODEL_cc69de2d533d414fbc2a8c617cbfca77",
       "IPY_MODEL_b59f2fdce1ab4433b3427b4c3ad3cf74"
      ],
      "layout": "IPY_MODEL_0682113f737d421cb9763eabf09e7cc6"
     }
    },
    "b59f2fdce1ab4433b3427b4c3ad3cf74": {
     "model_module": "@jupyter-widgets/controls",
     "model_module_version": "1.5.0",
     "model_name": "HTMLModel",
     "state": {
      "_dom_classes": [],
      "_model_module": "@jupyter-widgets/controls",
      "_model_module_version": "1.5.0",
      "_model_name": "HTMLModel",
      "_view_count": null,
      "_view_module": "@jupyter-widgets/controls",
      "_view_module_version": "1.5.0",
      "_view_name": "HTMLView",
      "description": "",
      "description_tooltip": null,
      "layout": "IPY_MODEL_52d71f505e464e83b666a5593780e2e2",
      "placeholder": "​",
      "style": "IPY_MODEL_82c09d29f0dc43d286b4c9bf8c54a9df",
      "value": " 6.57k/6.57k [00:00&lt;00:00, 515kB/s]"
     }
    },
    "bc8c20eadb5145788820aa59b9b69c7f": {
     "model_module": "@jupyter-widgets/controls",
     "model_module_version": "1.5.0",
     "model_name": "HTMLModel",
     "state": {
      "_dom_classes": [],
      "_model_module": "@jupyter-widgets/controls",
      "_model_module_version": "1.5.0",
      "_model_name": "HTMLModel",
      "_view_count": null,
      "_view_module": "@jupyter-widgets/controls",
      "_view_module_version": "1.5.0",
      "_view_name": "HTMLView",
      "description": "",
      "description_tooltip": null,
      "layout": "IPY_MODEL_fb45db7d733f4f2ab2f504e9f0df19a9",
      "placeholder": "​",
      "style": "IPY_MODEL_fc5ac866b7054047b77f350fadf74324",
      "value": "Downloading pytorch_model.bin: 100%"
     }
    },
    "c0e5f9f84c644e359e46873d8dad6aee": {
     "model_module": "@jupyter-widgets/base",
     "model_module_version": "1.2.0",
     "model_name": "LayoutModel",
     "state": {
      "_model_module": "@jupyter-widgets/base",
      "_model_module_version": "1.2.0",
      "_model_name": "LayoutModel",
      "_view_count": null,
      "_view_module": "@jupyter-widgets/base",
      "_view_module_version": "1.2.0",
      "_view_name": "LayoutView",
      "align_content": null,
      "align_items": null,
      "align_self": null,
      "border": null,
      "bottom": null,
      "display": null,
      "flex": null,
      "flex_flow": null,
      "grid_area": null,
      "grid_auto_columns": null,
      "grid_auto_flow": null,
      "grid_auto_rows": null,
      "grid_column": null,
      "grid_gap": null,
      "grid_row": null,
      "grid_template_areas": null,
      "grid_template_columns": null,
      "grid_template_rows": null,
      "height": null,
      "justify_content": null,
      "justify_items": null,
      "left": null,
      "margin": null,
      "max_height": null,
      "max_width": null,
      "min_height": null,
      "min_width": null,
      "object_fit": null,
      "object_position": null,
      "order": null,
      "overflow": null,
      "overflow_x": null,
      "overflow_y": null,
      "padding": null,
      "right": null,
      "top": null,
      "visibility": null,
      "width": null
     }
    },
    "c1fcd00c43c24f1d8eb9d42efdb435a2": {
     "model_module": "@jupyter-widgets/controls",
     "model_module_version": "1.5.0",
     "model_name": "HTMLModel",
     "state": {
      "_dom_classes": [],
      "_model_module": "@jupyter-widgets/controls",
      "_model_module_version": "1.5.0",
      "_model_name": "HTMLModel",
      "_view_count": null,
      "_view_module": "@jupyter-widgets/controls",
      "_view_module_version": "1.5.0",
      "_view_name": "HTMLView",
      "description": "",
      "description_tooltip": null,
      "layout": "IPY_MODEL_a3b498f392b842799cd20cad52bc42fe",
      "placeholder": "​",
      "style": "IPY_MODEL_231899aa69134a7f9e38e57d01e81c85",
      "value": " 375M/375M [00:00&lt;00:00, 423MB/s]"
     }
    },
    "cc69de2d533d414fbc2a8c617cbfca77": {
     "model_module": "@jupyter-widgets/controls",
     "model_module_version": "1.5.0",
     "model_name": "FloatProgressModel",
     "state": {
      "_dom_classes": [],
      "_model_module": "@jupyter-widgets/controls",
      "_model_module_version": "1.5.0",
      "_model_name": "FloatProgressModel",
      "_view_count": null,
      "_view_module": "@jupyter-widgets/controls",
      "_view_module_version": "1.5.0",
      "_view_name": "ProgressView",
      "bar_style": "success",
      "description": "",
      "description_tooltip": null,
      "layout": "IPY_MODEL_44af333afe5040a2888217d71cb48162",
      "max": 6566,
      "min": 0,
      "orientation": "horizontal",
      "style": "IPY_MODEL_43c8e4157479432cb8855f01e7988d36",
      "value": 6566
     }
    },
    "d87fa2850e0b4e0193d3321c7b392132": {
     "model_module": "@jupyter-widgets/controls",
     "model_module_version": "1.5.0",
     "model_name": "FloatProgressModel",
     "state": {
      "_dom_classes": [],
      "_model_module": "@jupyter-widgets/controls",
      "_model_module_version": "1.5.0",
      "_model_name": "FloatProgressModel",
      "_view_count": null,
      "_view_module": "@jupyter-widgets/controls",
      "_view_module_version": "1.5.0",
      "_view_name": "ProgressView",
      "bar_style": "success",
      "description": "",
      "description_tooltip": null,
      "layout": "IPY_MODEL_c0e5f9f84c644e359e46873d8dad6aee",
      "max": 375050165,
      "min": 0,
      "orientation": "horizontal",
      "style": "IPY_MODEL_b140bee2cf01484ea2cc7bbf5d920758",
      "value": 375050165
     }
    },
    "e5efc7dd03db49869ea9a04c9d2a1562": {
     "model_module": "@jupyter-widgets/base",
     "model_module_version": "1.2.0",
     "model_name": "LayoutModel",
     "state": {
      "_model_module": "@jupyter-widgets/base",
      "_model_module_version": "1.2.0",
      "_model_name": "LayoutModel",
      "_view_count": null,
      "_view_module": "@jupyter-widgets/base",
      "_view_module_version": "1.2.0",
      "_view_name": "LayoutView",
      "align_content": null,
      "align_items": null,
      "align_self": null,
      "border": null,
      "bottom": null,
      "display": null,
      "flex": null,
      "flex_flow": null,
      "grid_area": null,
      "grid_auto_columns": null,
      "grid_auto_flow": null,
      "grid_auto_rows": null,
      "grid_column": null,
      "grid_gap": null,
      "grid_row": null,
      "grid_template_areas": null,
      "grid_template_columns": null,
      "grid_template_rows": null,
      "height": null,
      "justify_content": null,
      "justify_items": null,
      "left": null,
      "margin": null,
      "max_height": null,
      "max_width": null,
      "min_height": null,
      "min_width": null,
      "object_fit": null,
      "object_position": null,
      "order": null,
      "overflow": null,
      "overflow_x": null,
      "overflow_y": null,
      "padding": null,
      "right": null,
      "top": null,
      "visibility": null,
      "width": null
     }
    },
    "edf96c47da884dd2a1ecbc04382f8be7": {
     "model_module": "@jupyter-widgets/controls",
     "model_module_version": "1.5.0",
     "model_name": "DescriptionStyleModel",
     "state": {
      "_model_module": "@jupyter-widgets/controls",
      "_model_module_version": "1.5.0",
      "_model_name": "DescriptionStyleModel",
      "_view_count": null,
      "_view_module": "@jupyter-widgets/base",
      "_view_module_version": "1.2.0",
      "_view_name": "StyleView",
      "description_width": ""
     }
    },
    "f053484f156e40c4a0535d15ed8b0c8f": {
     "model_module": "@jupyter-widgets/controls",
     "model_module_version": "1.5.0",
     "model_name": "HBoxModel",
     "state": {
      "_dom_classes": [],
      "_model_module": "@jupyter-widgets/controls",
      "_model_module_version": "1.5.0",
      "_model_name": "HBoxModel",
      "_view_count": null,
      "_view_module": "@jupyter-widgets/controls",
      "_view_module_version": "1.5.0",
      "_view_name": "HBoxView",
      "box_style": "",
      "children": [
       "IPY_MODEL_7474aa984303400e95c9cec7e998bd50",
       "IPY_MODEL_4cce64923dd44111aefd1ab0842dfd69",
       "IPY_MODEL_c1fcd00c43c24f1d8eb9d42efdb435a2"
      ],
      "layout": "IPY_MODEL_13f409b9c328438189f5f3556817a9f1"
     }
    },
    "fb45db7d733f4f2ab2f504e9f0df19a9": {
     "model_module": "@jupyter-widgets/base",
     "model_module_version": "1.2.0",
     "model_name": "LayoutModel",
     "state": {
      "_model_module": "@jupyter-widgets/base",
      "_model_module_version": "1.2.0",
      "_model_name": "LayoutModel",
      "_view_count": null,
      "_view_module": "@jupyter-widgets/base",
      "_view_module_version": "1.2.0",
      "_view_name": "LayoutView",
      "align_content": null,
      "align_items": null,
      "align_self": null,
      "border": null,
      "bottom": null,
      "display": null,
      "flex": null,
      "flex_flow": null,
      "grid_area": null,
      "grid_auto_columns": null,
      "grid_auto_flow": null,
      "grid_auto_rows": null,
      "grid_column": null,
      "grid_gap": null,
      "grid_row": null,
      "grid_template_areas": null,
      "grid_template_columns": null,
      "grid_template_rows": null,
      "height": null,
      "justify_content": null,
      "justify_items": null,
      "left": null,
      "margin": null,
      "max_height": null,
      "max_width": null,
      "min_height": null,
      "min_width": null,
      "object_fit": null,
      "object_position": null,
      "order": null,
      "overflow": null,
      "overflow_x": null,
      "overflow_y": null,
      "padding": null,
      "right": null,
      "top": null,
      "visibility": null,
      "width": null
     }
    },
    "fc5ac866b7054047b77f350fadf74324": {
     "model_module": "@jupyter-widgets/controls",
     "model_module_version": "1.5.0",
     "model_name": "DescriptionStyleModel",
     "state": {
      "_model_module": "@jupyter-widgets/controls",
      "_model_module_version": "1.5.0",
      "_model_name": "DescriptionStyleModel",
      "_view_count": null,
      "_view_module": "@jupyter-widgets/base",
      "_view_module_version": "1.2.0",
      "_view_name": "StyleView",
      "description_width": ""
     }
    }
   }
  }
 },
 "nbformat": 4,
 "nbformat_minor": 1
}
